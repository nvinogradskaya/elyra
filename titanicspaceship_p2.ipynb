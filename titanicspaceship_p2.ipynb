{
 "cells": [
  {
   "cell_type": "code",
   "execution_count": 1,
   "id": "6c859720",
   "metadata": {
    "execution": {
     "iopub.execute_input": "2023-12-22T11:06:25.068738Z",
     "iopub.status.busy": "2023-12-22T11:06:25.068086Z",
     "iopub.status.idle": "2023-12-22T11:06:27.288262Z",
     "shell.execute_reply": "2023-12-22T11:06:27.287623Z"
    },
    "papermill": {
     "duration": 2.23653,
     "end_time": "2023-12-22T11:06:27.290449",
     "exception": false,
     "start_time": "2023-12-22T11:06:25.053919",
     "status": "completed"
    },
    "tags": []
   },
   "outputs": [],
   "source": [
    "import pandas as pd\n",
    "import numpy as np\n",
    "import matplotlib.pyplot as plt\n",
    "%matplotlib inline\n",
    "import seaborn as sns\n",
    "sns.set()\n",
    "import math\n",
    "import sklearn\n",
    "from sklearn.decomposition import PCA, FastICA\n",
    "from sklearn.pipeline import Pipeline\n",
    "from sklearn.preprocessing import LabelEncoder\n",
    "import statsmodels.api as sm\n",
    "from statsmodels.regression.linear_model import OLS\n"
   ]
  },
  {
   "cell_type": "code",
   "execution_count": 2,
   "id": "d2b4e15c",
   "metadata": {
    "execution": {
     "iopub.execute_input": "2023-12-22T11:06:27.299776Z",
     "iopub.status.busy": "2023-12-22T11:06:27.299399Z",
     "iopub.status.idle": "2023-12-22T11:06:27.344546Z",
     "shell.execute_reply": "2023-12-22T11:06:27.343540Z"
    },
    "papermill": {
     "duration": 0.052457,
     "end_time": "2023-12-22T11:06:27.347456",
     "exception": false,
     "start_time": "2023-12-22T11:06:27.294999",
     "status": "completed"
    },
    "tags": []
   },
   "outputs": [
    {
     "data": {
      "text/html": [
       "<div>\n",
       "<style scoped>\n",
       "    .dataframe tbody tr th:only-of-type {\n",
       "        vertical-align: middle;\n",
       "    }\n",
       "\n",
       "    .dataframe tbody tr th {\n",
       "        vertical-align: top;\n",
       "    }\n",
       "\n",
       "    .dataframe thead th {\n",
       "        text-align: right;\n",
       "    }\n",
       "</style>\n",
       "<table border=\"1\" class=\"dataframe\">\n",
       "  <thead>\n",
       "    <tr style=\"text-align: right;\">\n",
       "      <th></th>\n",
       "      <th>HomePlanet</th>\n",
       "      <th>CryoSleep</th>\n",
       "      <th>Destination</th>\n",
       "      <th>Age</th>\n",
       "      <th>VIP</th>\n",
       "      <th>RoomService</th>\n",
       "      <th>FoodCourt</th>\n",
       "      <th>ShoppingMall</th>\n",
       "      <th>Spa</th>\n",
       "      <th>VRDeck</th>\n",
       "      <th>...</th>\n",
       "      <th>letter1_C</th>\n",
       "      <th>letter1_D</th>\n",
       "      <th>letter1_E</th>\n",
       "      <th>letter1_F</th>\n",
       "      <th>letter1_G</th>\n",
       "      <th>letter1_T</th>\n",
       "      <th>letter1_U</th>\n",
       "      <th>letter2_P</th>\n",
       "      <th>letter2_S</th>\n",
       "      <th>letter2_n</th>\n",
       "    </tr>\n",
       "  </thead>\n",
       "  <tbody>\n",
       "    <tr>\n",
       "      <th>0</th>\n",
       "      <td>2.0</td>\n",
       "      <td>0.0</td>\n",
       "      <td>2</td>\n",
       "      <td>39.0</td>\n",
       "      <td>0.0</td>\n",
       "      <td>0.0</td>\n",
       "      <td>0.0</td>\n",
       "      <td>0.0</td>\n",
       "      <td>0.0</td>\n",
       "      <td>0.0</td>\n",
       "      <td>...</td>\n",
       "      <td>0</td>\n",
       "      <td>0</td>\n",
       "      <td>0</td>\n",
       "      <td>0</td>\n",
       "      <td>0</td>\n",
       "      <td>0</td>\n",
       "      <td>0</td>\n",
       "      <td>1</td>\n",
       "      <td>0</td>\n",
       "      <td>0</td>\n",
       "    </tr>\n",
       "    <tr>\n",
       "      <th>1</th>\n",
       "      <td>1.0</td>\n",
       "      <td>0.0</td>\n",
       "      <td>2</td>\n",
       "      <td>24.0</td>\n",
       "      <td>0.0</td>\n",
       "      <td>109.0</td>\n",
       "      <td>9.0</td>\n",
       "      <td>25.0</td>\n",
       "      <td>549.0</td>\n",
       "      <td>44.0</td>\n",
       "      <td>...</td>\n",
       "      <td>0</td>\n",
       "      <td>0</td>\n",
       "      <td>0</td>\n",
       "      <td>1</td>\n",
       "      <td>0</td>\n",
       "      <td>0</td>\n",
       "      <td>0</td>\n",
       "      <td>0</td>\n",
       "      <td>1</td>\n",
       "      <td>0</td>\n",
       "    </tr>\n",
       "    <tr>\n",
       "      <th>2</th>\n",
       "      <td>2.0</td>\n",
       "      <td>0.0</td>\n",
       "      <td>2</td>\n",
       "      <td>58.0</td>\n",
       "      <td>1.0</td>\n",
       "      <td>43.0</td>\n",
       "      <td>3576.0</td>\n",
       "      <td>0.0</td>\n",
       "      <td>6715.0</td>\n",
       "      <td>49.0</td>\n",
       "      <td>...</td>\n",
       "      <td>0</td>\n",
       "      <td>0</td>\n",
       "      <td>0</td>\n",
       "      <td>0</td>\n",
       "      <td>0</td>\n",
       "      <td>0</td>\n",
       "      <td>0</td>\n",
       "      <td>0</td>\n",
       "      <td>1</td>\n",
       "      <td>0</td>\n",
       "    </tr>\n",
       "    <tr>\n",
       "      <th>3</th>\n",
       "      <td>2.0</td>\n",
       "      <td>0.0</td>\n",
       "      <td>2</td>\n",
       "      <td>33.0</td>\n",
       "      <td>0.0</td>\n",
       "      <td>0.0</td>\n",
       "      <td>1283.0</td>\n",
       "      <td>371.0</td>\n",
       "      <td>3329.0</td>\n",
       "      <td>193.0</td>\n",
       "      <td>...</td>\n",
       "      <td>0</td>\n",
       "      <td>0</td>\n",
       "      <td>0</td>\n",
       "      <td>0</td>\n",
       "      <td>0</td>\n",
       "      <td>0</td>\n",
       "      <td>0</td>\n",
       "      <td>0</td>\n",
       "      <td>1</td>\n",
       "      <td>0</td>\n",
       "    </tr>\n",
       "    <tr>\n",
       "      <th>4</th>\n",
       "      <td>1.0</td>\n",
       "      <td>0.0</td>\n",
       "      <td>2</td>\n",
       "      <td>16.0</td>\n",
       "      <td>0.0</td>\n",
       "      <td>303.0</td>\n",
       "      <td>70.0</td>\n",
       "      <td>151.0</td>\n",
       "      <td>565.0</td>\n",
       "      <td>2.0</td>\n",
       "      <td>...</td>\n",
       "      <td>0</td>\n",
       "      <td>0</td>\n",
       "      <td>0</td>\n",
       "      <td>1</td>\n",
       "      <td>0</td>\n",
       "      <td>0</td>\n",
       "      <td>0</td>\n",
       "      <td>0</td>\n",
       "      <td>1</td>\n",
       "      <td>0</td>\n",
       "    </tr>\n",
       "    <tr>\n",
       "      <th>5</th>\n",
       "      <td>1.0</td>\n",
       "      <td>0.0</td>\n",
       "      <td>1</td>\n",
       "      <td>44.0</td>\n",
       "      <td>0.0</td>\n",
       "      <td>0.0</td>\n",
       "      <td>483.0</td>\n",
       "      <td>0.0</td>\n",
       "      <td>291.0</td>\n",
       "      <td>0.0</td>\n",
       "      <td>...</td>\n",
       "      <td>0</td>\n",
       "      <td>0</td>\n",
       "      <td>0</td>\n",
       "      <td>1</td>\n",
       "      <td>0</td>\n",
       "      <td>0</td>\n",
       "      <td>0</td>\n",
       "      <td>1</td>\n",
       "      <td>0</td>\n",
       "      <td>0</td>\n",
       "    </tr>\n",
       "    <tr>\n",
       "      <th>6</th>\n",
       "      <td>1.0</td>\n",
       "      <td>0.0</td>\n",
       "      <td>2</td>\n",
       "      <td>26.0</td>\n",
       "      <td>0.0</td>\n",
       "      <td>42.0</td>\n",
       "      <td>1539.0</td>\n",
       "      <td>3.0</td>\n",
       "      <td>0.0</td>\n",
       "      <td>0.0</td>\n",
       "      <td>...</td>\n",
       "      <td>0</td>\n",
       "      <td>0</td>\n",
       "      <td>0</td>\n",
       "      <td>1</td>\n",
       "      <td>0</td>\n",
       "      <td>0</td>\n",
       "      <td>0</td>\n",
       "      <td>0</td>\n",
       "      <td>1</td>\n",
       "      <td>0</td>\n",
       "    </tr>\n",
       "    <tr>\n",
       "      <th>7</th>\n",
       "      <td>1.0</td>\n",
       "      <td>1.0</td>\n",
       "      <td>2</td>\n",
       "      <td>28.0</td>\n",
       "      <td>0.0</td>\n",
       "      <td>0.0</td>\n",
       "      <td>0.0</td>\n",
       "      <td>0.0</td>\n",
       "      <td>0.0</td>\n",
       "      <td>NaN</td>\n",
       "      <td>...</td>\n",
       "      <td>0</td>\n",
       "      <td>0</td>\n",
       "      <td>0</td>\n",
       "      <td>0</td>\n",
       "      <td>1</td>\n",
       "      <td>0</td>\n",
       "      <td>0</td>\n",
       "      <td>0</td>\n",
       "      <td>1</td>\n",
       "      <td>0</td>\n",
       "    </tr>\n",
       "    <tr>\n",
       "      <th>8</th>\n",
       "      <td>1.0</td>\n",
       "      <td>0.0</td>\n",
       "      <td>2</td>\n",
       "      <td>35.0</td>\n",
       "      <td>0.0</td>\n",
       "      <td>0.0</td>\n",
       "      <td>785.0</td>\n",
       "      <td>17.0</td>\n",
       "      <td>216.0</td>\n",
       "      <td>0.0</td>\n",
       "      <td>...</td>\n",
       "      <td>0</td>\n",
       "      <td>0</td>\n",
       "      <td>0</td>\n",
       "      <td>1</td>\n",
       "      <td>0</td>\n",
       "      <td>0</td>\n",
       "      <td>0</td>\n",
       "      <td>0</td>\n",
       "      <td>1</td>\n",
       "      <td>0</td>\n",
       "    </tr>\n",
       "    <tr>\n",
       "      <th>9</th>\n",
       "      <td>2.0</td>\n",
       "      <td>1.0</td>\n",
       "      <td>0</td>\n",
       "      <td>14.0</td>\n",
       "      <td>0.0</td>\n",
       "      <td>0.0</td>\n",
       "      <td>0.0</td>\n",
       "      <td>0.0</td>\n",
       "      <td>0.0</td>\n",
       "      <td>0.0</td>\n",
       "      <td>...</td>\n",
       "      <td>0</td>\n",
       "      <td>0</td>\n",
       "      <td>0</td>\n",
       "      <td>0</td>\n",
       "      <td>0</td>\n",
       "      <td>0</td>\n",
       "      <td>0</td>\n",
       "      <td>1</td>\n",
       "      <td>0</td>\n",
       "      <td>0</td>\n",
       "    </tr>\n",
       "  </tbody>\n",
       "</table>\n",
       "<p>10 rows × 23 columns</p>\n",
       "</div>"
      ],
      "text/plain": [
       "   HomePlanet  CryoSleep  Destination   Age  VIP  RoomService  FoodCourt  \\\n",
       "0         2.0        0.0            2  39.0  0.0          0.0        0.0   \n",
       "1         1.0        0.0            2  24.0  0.0        109.0        9.0   \n",
       "2         2.0        0.0            2  58.0  1.0         43.0     3576.0   \n",
       "3         2.0        0.0            2  33.0  0.0          0.0     1283.0   \n",
       "4         1.0        0.0            2  16.0  0.0        303.0       70.0   \n",
       "5         1.0        0.0            1  44.0  0.0          0.0      483.0   \n",
       "6         1.0        0.0            2  26.0  0.0         42.0     1539.0   \n",
       "7         1.0        1.0            2  28.0  0.0          0.0        0.0   \n",
       "8         1.0        0.0            2  35.0  0.0          0.0      785.0   \n",
       "9         2.0        1.0            0  14.0  0.0          0.0        0.0   \n",
       "\n",
       "   ShoppingMall     Spa  VRDeck  ...  letter1_C  letter1_D  letter1_E  \\\n",
       "0           0.0     0.0     0.0  ...          0          0          0   \n",
       "1          25.0   549.0    44.0  ...          0          0          0   \n",
       "2           0.0  6715.0    49.0  ...          0          0          0   \n",
       "3         371.0  3329.0   193.0  ...          0          0          0   \n",
       "4         151.0   565.0     2.0  ...          0          0          0   \n",
       "5           0.0   291.0     0.0  ...          0          0          0   \n",
       "6           3.0     0.0     0.0  ...          0          0          0   \n",
       "7           0.0     0.0     NaN  ...          0          0          0   \n",
       "8          17.0   216.0     0.0  ...          0          0          0   \n",
       "9           0.0     0.0     0.0  ...          0          0          0   \n",
       "\n",
       "   letter1_F  letter1_G  letter1_T  letter1_U  letter2_P  letter2_S  letter2_n  \n",
       "0          0          0          0          0          1          0          0  \n",
       "1          1          0          0          0          0          1          0  \n",
       "2          0          0          0          0          0          1          0  \n",
       "3          0          0          0          0          0          1          0  \n",
       "4          1          0          0          0          0          1          0  \n",
       "5          1          0          0          0          1          0          0  \n",
       "6          1          0          0          0          0          1          0  \n",
       "7          0          1          0          0          0          1          0  \n",
       "8          1          0          0          0          0          1          0  \n",
       "9          0          0          0          0          1          0          0  \n",
       "\n",
       "[10 rows x 23 columns]"
      ]
     },
     "execution_count": 2,
     "metadata": {},
     "output_type": "execute_result"
    }
   ],
   "source": [
    "train = pd.read_csv('train4.csv')\n",
    "train.head(10)"
   ]
  },
  {
   "cell_type": "code",
   "execution_count": 3,
   "id": "af1d41c2",
   "metadata": {
    "execution": {
     "iopub.execute_input": "2023-12-22T11:06:27.357454Z",
     "iopub.status.busy": "2023-12-22T11:06:27.357119Z",
     "iopub.status.idle": "2023-12-22T11:06:27.364843Z",
     "shell.execute_reply": "2023-12-22T11:06:27.363699Z"
    },
    "papermill": {
     "duration": 0.015448,
     "end_time": "2023-12-22T11:06:27.367483",
     "exception": false,
     "start_time": "2023-12-22T11:06:27.352035",
     "status": "completed"
    },
    "tags": []
   },
   "outputs": [
    {
     "data": {
      "text/plain": [
       "['HomePlanet',\n",
       " 'CryoSleep',\n",
       " 'Age',\n",
       " 'VIP',\n",
       " 'RoomService',\n",
       " 'FoodCourt',\n",
       " 'ShoppingMall',\n",
       " 'Spa',\n",
       " 'VRDeck']"
      ]
     },
     "execution_count": 3,
     "metadata": {},
     "output_type": "execute_result"
    }
   ],
   "source": [
    "train.columns[train.isna().any()].tolist()"
   ]
  },
  {
   "cell_type": "code",
   "execution_count": 4,
   "id": "0905afd1",
   "metadata": {
    "execution": {
     "iopub.execute_input": "2023-12-22T11:06:27.376920Z",
     "iopub.status.busy": "2023-12-22T11:06:27.376579Z",
     "iopub.status.idle": "2023-12-22T11:06:27.384018Z",
     "shell.execute_reply": "2023-12-22T11:06:27.382874Z"
    },
    "papermill": {
     "duration": 0.015312,
     "end_time": "2023-12-22T11:06:27.386627",
     "exception": false,
     "start_time": "2023-12-22T11:06:27.371315",
     "status": "completed"
    },
    "tags": []
   },
   "outputs": [
    {
     "data": {
      "text/plain": [
       "HomePlanet\n",
       "1.0    4602\n",
       "2.0    2131\n",
       "3.0    1759\n",
       "Name: count, dtype: int64"
      ]
     },
     "execution_count": 4,
     "metadata": {},
     "output_type": "execute_result"
    }
   ],
   "source": [
    "train.HomePlanet.value_counts()"
   ]
  },
  {
   "cell_type": "code",
   "execution_count": 5,
   "id": "da9e7d32",
   "metadata": {
    "execution": {
     "iopub.execute_input": "2023-12-22T11:06:27.397856Z",
     "iopub.status.busy": "2023-12-22T11:06:27.397512Z",
     "iopub.status.idle": "2023-12-22T11:06:27.402220Z",
     "shell.execute_reply": "2023-12-22T11:06:27.401422Z"
    },
    "papermill": {
     "duration": 0.01235,
     "end_time": "2023-12-22T11:06:27.404743",
     "exception": false,
     "start_time": "2023-12-22T11:06:27.392393",
     "status": "completed"
    },
    "tags": []
   },
   "outputs": [],
   "source": [
    "# ТАК КАК ЗНАЧЕНИЙ 1 В 2/2.5 РАЗА БОЛЬШЕ ОСТАЛЬНЫХ, ТО ВСЕ ПРОПУЩЕННЫЕ ЗАПОЛНЯЕМ ЗНАЧЕНИЯМИ 1 \n",
    "train['HomePlanet'].fillna(1, inplace=True)"
   ]
  },
  {
   "cell_type": "code",
   "execution_count": 6,
   "id": "028a1642",
   "metadata": {
    "execution": {
     "iopub.execute_input": "2023-12-22T11:06:27.414042Z",
     "iopub.status.busy": "2023-12-22T11:06:27.413746Z",
     "iopub.status.idle": "2023-12-22T11:06:27.735039Z",
     "shell.execute_reply": "2023-12-22T11:06:27.734314Z"
    },
    "papermill": {
     "duration": 0.328887,
     "end_time": "2023-12-22T11:06:27.737285",
     "exception": false,
     "start_time": "2023-12-22T11:06:27.408398",
     "status": "completed"
    },
    "tags": []
   },
   "outputs": [
    {
     "name": "stderr",
     "output_type": "stream",
     "text": [
      "/Users/anastasiavinogradskaa/anaconda3/lib/python3.11/site-packages/sklearn/base.py:464: UserWarning: X does not have valid feature names, but LinearRegression was fitted with feature names\n",
      "  warnings.warn(\n",
      "/var/folders/_z/dxjw6bsj42vd1dd7jll9syv40000gn/T/ipykernel_16553/22462247.py:24: SettingWithCopyWarning: \n",
      "A value is trying to be set on a copy of a slice from a DataFrame.\n",
      "Try using .loc[row_indexer,col_indexer] = value instead\n",
      "\n",
      "See the caveats in the documentation: https://pandas.pydata.org/pandas-docs/stable/user_guide/indexing.html#returning-a-view-versus-a-copy\n",
      "  missing_values_df[features] = model.predict(imputer.transform(missing_values_df.drop(features, axis=1)))\n"
     ]
    },
    {
     "data": {
      "text/html": [
       "<div>\n",
       "<style scoped>\n",
       "    .dataframe tbody tr th:only-of-type {\n",
       "        vertical-align: middle;\n",
       "    }\n",
       "\n",
       "    .dataframe tbody tr th {\n",
       "        vertical-align: top;\n",
       "    }\n",
       "\n",
       "    .dataframe thead th {\n",
       "        text-align: right;\n",
       "    }\n",
       "</style>\n",
       "<table border=\"1\" class=\"dataframe\">\n",
       "  <thead>\n",
       "    <tr style=\"text-align: right;\">\n",
       "      <th></th>\n",
       "      <th>HomePlanet</th>\n",
       "      <th>CryoSleep</th>\n",
       "      <th>Destination</th>\n",
       "      <th>Age</th>\n",
       "      <th>VIP</th>\n",
       "      <th>RoomService</th>\n",
       "      <th>FoodCourt</th>\n",
       "      <th>ShoppingMall</th>\n",
       "      <th>Spa</th>\n",
       "      <th>VRDeck</th>\n",
       "      <th>...</th>\n",
       "      <th>letter1_C</th>\n",
       "      <th>letter1_D</th>\n",
       "      <th>letter1_E</th>\n",
       "      <th>letter1_F</th>\n",
       "      <th>letter1_G</th>\n",
       "      <th>letter1_T</th>\n",
       "      <th>letter1_U</th>\n",
       "      <th>letter2_P</th>\n",
       "      <th>letter2_S</th>\n",
       "      <th>letter2_n</th>\n",
       "    </tr>\n",
       "  </thead>\n",
       "  <tbody>\n",
       "    <tr>\n",
       "      <th>0</th>\n",
       "      <td>2.0</td>\n",
       "      <td>0.0</td>\n",
       "      <td>2</td>\n",
       "      <td>39.0</td>\n",
       "      <td>0.0</td>\n",
       "      <td>0.000000</td>\n",
       "      <td>0.000000</td>\n",
       "      <td>0.000000</td>\n",
       "      <td>0.000000</td>\n",
       "      <td>0.000000</td>\n",
       "      <td>...</td>\n",
       "      <td>0</td>\n",
       "      <td>0</td>\n",
       "      <td>0</td>\n",
       "      <td>0</td>\n",
       "      <td>0</td>\n",
       "      <td>0</td>\n",
       "      <td>0</td>\n",
       "      <td>1</td>\n",
       "      <td>0</td>\n",
       "      <td>0</td>\n",
       "    </tr>\n",
       "    <tr>\n",
       "      <th>1</th>\n",
       "      <td>1.0</td>\n",
       "      <td>0.0</td>\n",
       "      <td>2</td>\n",
       "      <td>24.0</td>\n",
       "      <td>0.0</td>\n",
       "      <td>109.000000</td>\n",
       "      <td>9.000000</td>\n",
       "      <td>25.000000</td>\n",
       "      <td>549.000000</td>\n",
       "      <td>44.000000</td>\n",
       "      <td>...</td>\n",
       "      <td>0</td>\n",
       "      <td>0</td>\n",
       "      <td>0</td>\n",
       "      <td>1</td>\n",
       "      <td>0</td>\n",
       "      <td>0</td>\n",
       "      <td>0</td>\n",
       "      <td>0</td>\n",
       "      <td>1</td>\n",
       "      <td>0</td>\n",
       "    </tr>\n",
       "    <tr>\n",
       "      <th>2</th>\n",
       "      <td>2.0</td>\n",
       "      <td>0.0</td>\n",
       "      <td>2</td>\n",
       "      <td>58.0</td>\n",
       "      <td>1.0</td>\n",
       "      <td>43.000000</td>\n",
       "      <td>3576.000000</td>\n",
       "      <td>0.000000</td>\n",
       "      <td>6715.000000</td>\n",
       "      <td>49.000000</td>\n",
       "      <td>...</td>\n",
       "      <td>0</td>\n",
       "      <td>0</td>\n",
       "      <td>0</td>\n",
       "      <td>0</td>\n",
       "      <td>0</td>\n",
       "      <td>0</td>\n",
       "      <td>0</td>\n",
       "      <td>0</td>\n",
       "      <td>1</td>\n",
       "      <td>0</td>\n",
       "    </tr>\n",
       "    <tr>\n",
       "      <th>3</th>\n",
       "      <td>2.0</td>\n",
       "      <td>0.0</td>\n",
       "      <td>2</td>\n",
       "      <td>33.0</td>\n",
       "      <td>0.0</td>\n",
       "      <td>0.000000</td>\n",
       "      <td>1283.000000</td>\n",
       "      <td>371.000000</td>\n",
       "      <td>3329.000000</td>\n",
       "      <td>193.000000</td>\n",
       "      <td>...</td>\n",
       "      <td>0</td>\n",
       "      <td>0</td>\n",
       "      <td>0</td>\n",
       "      <td>0</td>\n",
       "      <td>0</td>\n",
       "      <td>0</td>\n",
       "      <td>0</td>\n",
       "      <td>0</td>\n",
       "      <td>1</td>\n",
       "      <td>0</td>\n",
       "    </tr>\n",
       "    <tr>\n",
       "      <th>4</th>\n",
       "      <td>1.0</td>\n",
       "      <td>0.0</td>\n",
       "      <td>2</td>\n",
       "      <td>16.0</td>\n",
       "      <td>0.0</td>\n",
       "      <td>303.000000</td>\n",
       "      <td>70.000000</td>\n",
       "      <td>151.000000</td>\n",
       "      <td>565.000000</td>\n",
       "      <td>2.000000</td>\n",
       "      <td>...</td>\n",
       "      <td>0</td>\n",
       "      <td>0</td>\n",
       "      <td>0</td>\n",
       "      <td>1</td>\n",
       "      <td>0</td>\n",
       "      <td>0</td>\n",
       "      <td>0</td>\n",
       "      <td>0</td>\n",
       "      <td>1</td>\n",
       "      <td>0</td>\n",
       "    </tr>\n",
       "    <tr>\n",
       "      <th>...</th>\n",
       "      <td>...</td>\n",
       "      <td>...</td>\n",
       "      <td>...</td>\n",
       "      <td>...</td>\n",
       "      <td>...</td>\n",
       "      <td>...</td>\n",
       "      <td>...</td>\n",
       "      <td>...</td>\n",
       "      <td>...</td>\n",
       "      <td>...</td>\n",
       "      <td>...</td>\n",
       "      <td>...</td>\n",
       "      <td>...</td>\n",
       "      <td>...</td>\n",
       "      <td>...</td>\n",
       "      <td>...</td>\n",
       "      <td>...</td>\n",
       "      <td>...</td>\n",
       "      <td>...</td>\n",
       "      <td>...</td>\n",
       "      <td>...</td>\n",
       "    </tr>\n",
       "    <tr>\n",
       "      <th>8642</th>\n",
       "      <td>1.0</td>\n",
       "      <td>1.0</td>\n",
       "      <td>2</td>\n",
       "      <td>21.0</td>\n",
       "      <td>0.0</td>\n",
       "      <td>51.805378</td>\n",
       "      <td>-720.339757</td>\n",
       "      <td>-168.434651</td>\n",
       "      <td>121.470222</td>\n",
       "      <td>122.130600</td>\n",
       "      <td>...</td>\n",
       "      <td>0</td>\n",
       "      <td>0</td>\n",
       "      <td>0</td>\n",
       "      <td>0</td>\n",
       "      <td>1</td>\n",
       "      <td>0</td>\n",
       "      <td>0</td>\n",
       "      <td>1</td>\n",
       "      <td>0</td>\n",
       "      <td>0</td>\n",
       "    </tr>\n",
       "    <tr>\n",
       "      <th>8643</th>\n",
       "      <td>3.0</td>\n",
       "      <td>1.0</td>\n",
       "      <td>2</td>\n",
       "      <td>50.0</td>\n",
       "      <td>0.0</td>\n",
       "      <td>251.501560</td>\n",
       "      <td>-348.466821</td>\n",
       "      <td>151.404615</td>\n",
       "      <td>-244.077148</td>\n",
       "      <td>-342.790861</td>\n",
       "      <td>...</td>\n",
       "      <td>0</td>\n",
       "      <td>0</td>\n",
       "      <td>0</td>\n",
       "      <td>1</td>\n",
       "      <td>0</td>\n",
       "      <td>0</td>\n",
       "      <td>0</td>\n",
       "      <td>0</td>\n",
       "      <td>1</td>\n",
       "      <td>0</td>\n",
       "    </tr>\n",
       "    <tr>\n",
       "      <th>8665</th>\n",
       "      <td>1.0</td>\n",
       "      <td>1.0</td>\n",
       "      <td>2</td>\n",
       "      <td>33.0</td>\n",
       "      <td>0.0</td>\n",
       "      <td>80.717037</td>\n",
       "      <td>-667.375449</td>\n",
       "      <td>-195.097882</td>\n",
       "      <td>209.067722</td>\n",
       "      <td>144.296702</td>\n",
       "      <td>...</td>\n",
       "      <td>0</td>\n",
       "      <td>0</td>\n",
       "      <td>0</td>\n",
       "      <td>0</td>\n",
       "      <td>1</td>\n",
       "      <td>0</td>\n",
       "      <td>0</td>\n",
       "      <td>0</td>\n",
       "      <td>1</td>\n",
       "      <td>0</td>\n",
       "    </tr>\n",
       "    <tr>\n",
       "      <th>8667</th>\n",
       "      <td>2.0</td>\n",
       "      <td>0.0</td>\n",
       "      <td>2</td>\n",
       "      <td>29.0</td>\n",
       "      <td>0.0</td>\n",
       "      <td>220.730013</td>\n",
       "      <td>743.828593</td>\n",
       "      <td>423.982442</td>\n",
       "      <td>-10.629069</td>\n",
       "      <td>-18.029249</td>\n",
       "      <td>...</td>\n",
       "      <td>0</td>\n",
       "      <td>0</td>\n",
       "      <td>1</td>\n",
       "      <td>0</td>\n",
       "      <td>0</td>\n",
       "      <td>0</td>\n",
       "      <td>0</td>\n",
       "      <td>1</td>\n",
       "      <td>0</td>\n",
       "      <td>0</td>\n",
       "    </tr>\n",
       "    <tr>\n",
       "      <th>8675</th>\n",
       "      <td>1.0</td>\n",
       "      <td>NaN</td>\n",
       "      <td>2</td>\n",
       "      <td>44.0</td>\n",
       "      <td>0.0</td>\n",
       "      <td>-23.325427</td>\n",
       "      <td>299.018704</td>\n",
       "      <td>237.363917</td>\n",
       "      <td>-174.527009</td>\n",
       "      <td>-155.663236</td>\n",
       "      <td>...</td>\n",
       "      <td>0</td>\n",
       "      <td>0</td>\n",
       "      <td>0</td>\n",
       "      <td>1</td>\n",
       "      <td>0</td>\n",
       "      <td>0</td>\n",
       "      <td>0</td>\n",
       "      <td>1</td>\n",
       "      <td>0</td>\n",
       "      <td>0</td>\n",
       "    </tr>\n",
       "  </tbody>\n",
       "</table>\n",
       "<p>8693 rows × 23 columns</p>\n",
       "</div>"
      ],
      "text/plain": [
       "      HomePlanet  CryoSleep  Destination   Age  VIP  RoomService    FoodCourt  \\\n",
       "0            2.0        0.0            2  39.0  0.0     0.000000     0.000000   \n",
       "1            1.0        0.0            2  24.0  0.0   109.000000     9.000000   \n",
       "2            2.0        0.0            2  58.0  1.0    43.000000  3576.000000   \n",
       "3            2.0        0.0            2  33.0  0.0     0.000000  1283.000000   \n",
       "4            1.0        0.0            2  16.0  0.0   303.000000    70.000000   \n",
       "...          ...        ...          ...   ...  ...          ...          ...   \n",
       "8642         1.0        1.0            2  21.0  0.0    51.805378  -720.339757   \n",
       "8643         3.0        1.0            2  50.0  0.0   251.501560  -348.466821   \n",
       "8665         1.0        1.0            2  33.0  0.0    80.717037  -667.375449   \n",
       "8667         2.0        0.0            2  29.0  0.0   220.730013   743.828593   \n",
       "8675         1.0        NaN            2  44.0  0.0   -23.325427   299.018704   \n",
       "\n",
       "      ShoppingMall          Spa      VRDeck  ...  letter1_C  letter1_D  \\\n",
       "0         0.000000     0.000000    0.000000  ...          0          0   \n",
       "1        25.000000   549.000000   44.000000  ...          0          0   \n",
       "2         0.000000  6715.000000   49.000000  ...          0          0   \n",
       "3       371.000000  3329.000000  193.000000  ...          0          0   \n",
       "4       151.000000   565.000000    2.000000  ...          0          0   \n",
       "...            ...          ...         ...  ...        ...        ...   \n",
       "8642   -168.434651   121.470222  122.130600  ...          0          0   \n",
       "8643    151.404615  -244.077148 -342.790861  ...          0          0   \n",
       "8665   -195.097882   209.067722  144.296702  ...          0          0   \n",
       "8667    423.982442   -10.629069  -18.029249  ...          0          0   \n",
       "8675    237.363917  -174.527009 -155.663236  ...          0          0   \n",
       "\n",
       "      letter1_E  letter1_F  letter1_G  letter1_T  letter1_U  letter2_P  \\\n",
       "0             0          0          0          0          0          1   \n",
       "1             0          1          0          0          0          0   \n",
       "2             0          0          0          0          0          0   \n",
       "3             0          0          0          0          0          0   \n",
       "4             0          1          0          0          0          0   \n",
       "...         ...        ...        ...        ...        ...        ...   \n",
       "8642          0          0          1          0          0          1   \n",
       "8643          0          1          0          0          0          0   \n",
       "8665          0          0          1          0          0          0   \n",
       "8667          1          0          0          0          0          1   \n",
       "8675          0          1          0          0          0          1   \n",
       "\n",
       "      letter2_S  letter2_n  \n",
       "0             0          0  \n",
       "1             1          0  \n",
       "2             1          0  \n",
       "3             1          0  \n",
       "4             1          0  \n",
       "...         ...        ...  \n",
       "8642          0          0  \n",
       "8643          1          0  \n",
       "8665          1          0  \n",
       "8667          0          0  \n",
       "8675          0          0  \n",
       "\n",
       "[8693 rows x 23 columns]"
      ]
     },
     "execution_count": 6,
     "metadata": {},
     "output_type": "execute_result"
    }
   ],
   "source": [
    "from sklearn.linear_model import LinearRegression\n",
    "from sklearn.experimental import enable_iterative_imputer\n",
    "from sklearn.impute import IterativeImputer\n",
    "\n",
    "features = ['RoomService', 'FoodCourt', 'ShoppingMall', 'Spa', 'VRDeck']\n",
    "\n",
    "# с пропущенными значениями\n",
    "missing_values_df = train[train[features].isnull().any(axis=1)]\n",
    "\n",
    "# без пропущенных значений\n",
    "training_data = train.dropna(subset=features)\n",
    "\n",
    "X_train = training_data.drop(features, axis=1)\n",
    "y_train = training_data[features]\n",
    "\n",
    "# использую IterativeImputer для заполнения пропущенных значений\n",
    "imputer = IterativeImputer(max_iter=10, random_state=0)\n",
    "imputed_data = pd.DataFrame(imputer.fit_transform(X_train), columns=X_train.columns)\n",
    "\n",
    "\n",
    "model = LinearRegression()\n",
    "model.fit(imputed_data, y_train)\n",
    "\n",
    "missing_values_df[features] = model.predict(imputer.transform(missing_values_df.drop(features, axis=1)))\n",
    "\n",
    "train = pd.concat([training_data, missing_values_df])\n",
    "\n",
    "train"
   ]
  },
  {
   "cell_type": "code",
   "execution_count": 7,
   "id": "5ee09eb8",
   "metadata": {
    "execution": {
     "iopub.execute_input": "2023-12-22T11:06:27.747536Z",
     "iopub.status.busy": "2023-12-22T11:06:27.747156Z",
     "iopub.status.idle": "2023-12-22T11:06:27.753850Z",
     "shell.execute_reply": "2023-12-22T11:06:27.753208Z"
    },
    "papermill": {
     "duration": 0.014388,
     "end_time": "2023-12-22T11:06:27.755807",
     "exception": false,
     "start_time": "2023-12-22T11:06:27.741419",
     "status": "completed"
    },
    "tags": []
   },
   "outputs": [
    {
     "data": {
      "text/plain": [
       "['CryoSleep', 'Age', 'VIP']"
      ]
     },
     "execution_count": 7,
     "metadata": {},
     "output_type": "execute_result"
    }
   ],
   "source": [
    "train.columns[train.isna().any()].tolist()"
   ]
  },
  {
   "cell_type": "code",
   "execution_count": 8,
   "id": "4a36f6ac",
   "metadata": {
    "execution": {
     "iopub.execute_input": "2023-12-22T11:06:27.767792Z",
     "iopub.status.busy": "2023-12-22T11:06:27.767541Z",
     "iopub.status.idle": "2023-12-22T11:06:27.772193Z",
     "shell.execute_reply": "2023-12-22T11:06:27.771596Z"
    },
    "papermill": {
     "duration": 0.012461,
     "end_time": "2023-12-22T11:06:27.774135",
     "exception": false,
     "start_time": "2023-12-22T11:06:27.761674",
     "status": "completed"
    },
    "tags": []
   },
   "outputs": [],
   "source": [
    "# ПРОПУЩЕННЫЕ age ЗАПОЛНЯЮ СРЕДНИМИ \n",
    "mean_age = train['Age'].mean()\n",
    "\n",
    "train['Age'].fillna(mean_age, inplace=True)"
   ]
  },
  {
   "cell_type": "code",
   "execution_count": 9,
   "id": "0779c114",
   "metadata": {
    "execution": {
     "iopub.execute_input": "2023-12-22T11:06:27.784475Z",
     "iopub.status.busy": "2023-12-22T11:06:27.784198Z",
     "iopub.status.idle": "2023-12-22T11:06:27.790170Z",
     "shell.execute_reply": "2023-12-22T11:06:27.789518Z"
    },
    "papermill": {
     "duration": 0.013105,
     "end_time": "2023-12-22T11:06:27.791886",
     "exception": false,
     "start_time": "2023-12-22T11:06:27.778781",
     "status": "completed"
    },
    "tags": []
   },
   "outputs": [
    {
     "data": {
      "text/plain": [
       "['CryoSleep', 'VIP']"
      ]
     },
     "execution_count": 9,
     "metadata": {},
     "output_type": "execute_result"
    }
   ],
   "source": [
    "train.columns[train.isna().any()].tolist()"
   ]
  },
  {
   "cell_type": "code",
   "execution_count": 10,
   "id": "3182745d",
   "metadata": {
    "execution": {
     "iopub.execute_input": "2023-12-22T11:06:27.802236Z",
     "iopub.status.busy": "2023-12-22T11:06:27.801955Z",
     "iopub.status.idle": "2023-12-22T11:06:27.809852Z",
     "shell.execute_reply": "2023-12-22T11:06:27.809234Z"
    },
    "papermill": {
     "duration": 0.015368,
     "end_time": "2023-12-22T11:06:27.811739",
     "exception": false,
     "start_time": "2023-12-22T11:06:27.796371",
     "status": "completed"
    },
    "tags": []
   },
   "outputs": [
    {
     "name": "stdout",
     "output_type": "stream",
     "text": [
      "Transported: 4378 (50.4%)\n",
      "Not Transported: 4315 (49.6%)\n",
      "Total: 8693\n"
     ]
    }
   ],
   "source": [
    "transported = train[train['Transported'] == 1]\n",
    "not_transported = train[train['Transported'] == 0]\n",
    "\n",
    "print (\"Transported: %i (%.1f%%)\"%(len(transported), (len(transported))/len(train)*100.0))\n",
    "print (\"Not Transported: %i (%.1f%%)\"%(len(not_transported), (len(not_transported))/len(train)*100.0))\n",
    "print (\"Total: %i\"%len(train))"
   ]
  },
  {
   "cell_type": "code",
   "execution_count": 11,
   "id": "bed161ae",
   "metadata": {
    "execution": {
     "iopub.execute_input": "2023-12-22T11:06:27.821825Z",
     "iopub.status.busy": "2023-12-22T11:06:27.821559Z",
     "iopub.status.idle": "2023-12-22T11:06:27.830230Z",
     "shell.execute_reply": "2023-12-22T11:06:27.829641Z"
    },
    "papermill": {
     "duration": 0.016132,
     "end_time": "2023-12-22T11:06:27.832168",
     "exception": false,
     "start_time": "2023-12-22T11:06:27.816036",
     "status": "completed"
    },
    "tags": []
   },
   "outputs": [
    {
     "data": {
      "text/plain": [
       "VIP  Transported\n",
       "0.0  1              4198\n",
       "     0              4093\n",
       "1.0  0               123\n",
       "     1                76\n",
       "Name: count, dtype: int64"
      ]
     },
     "execution_count": 11,
     "metadata": {},
     "output_type": "execute_result"
    }
   ],
   "source": [
    "train.groupby('VIP').Transported.value_counts()"
   ]
  },
  {
   "cell_type": "code",
   "execution_count": 12,
   "id": "7888317f",
   "metadata": {
    "execution": {
     "iopub.execute_input": "2023-12-22T11:06:27.843572Z",
     "iopub.status.busy": "2023-12-22T11:06:27.843203Z",
     "iopub.status.idle": "2023-12-22T11:06:27.854626Z",
     "shell.execute_reply": "2023-12-22T11:06:27.854006Z"
    },
    "papermill": {
     "duration": 0.019907,
     "end_time": "2023-12-22T11:06:27.856650",
     "exception": false,
     "start_time": "2023-12-22T11:06:27.836743",
     "status": "completed"
    },
    "tags": []
   },
   "outputs": [
    {
     "data": {
      "text/html": [
       "<div>\n",
       "<style scoped>\n",
       "    .dataframe tbody tr th:only-of-type {\n",
       "        vertical-align: middle;\n",
       "    }\n",
       "\n",
       "    .dataframe tbody tr th {\n",
       "        vertical-align: top;\n",
       "    }\n",
       "\n",
       "    .dataframe thead th {\n",
       "        text-align: right;\n",
       "    }\n",
       "</style>\n",
       "<table border=\"1\" class=\"dataframe\">\n",
       "  <thead>\n",
       "    <tr style=\"text-align: right;\">\n",
       "      <th></th>\n",
       "      <th>VIP</th>\n",
       "      <th>Transported</th>\n",
       "    </tr>\n",
       "  </thead>\n",
       "  <tbody>\n",
       "    <tr>\n",
       "      <th>0</th>\n",
       "      <td>0.0</td>\n",
       "      <td>0.506332</td>\n",
       "    </tr>\n",
       "    <tr>\n",
       "      <th>1</th>\n",
       "      <td>1.0</td>\n",
       "      <td>0.381910</td>\n",
       "    </tr>\n",
       "  </tbody>\n",
       "</table>\n",
       "</div>"
      ],
      "text/plain": [
       "   VIP  Transported\n",
       "0  0.0     0.506332\n",
       "1  1.0     0.381910"
      ]
     },
     "execution_count": 12,
     "metadata": {},
     "output_type": "execute_result"
    }
   ],
   "source": [
    "train[['VIP', 'Transported']].groupby('VIP', as_index = False).mean()"
   ]
  },
  {
   "cell_type": "code",
   "execution_count": 13,
   "id": "4c62b9f6",
   "metadata": {
    "execution": {
     "iopub.execute_input": "2023-12-22T11:06:27.867716Z",
     "iopub.status.busy": "2023-12-22T11:06:27.867464Z",
     "iopub.status.idle": "2023-12-22T11:06:28.000388Z",
     "shell.execute_reply": "2023-12-22T11:06:27.999675Z"
    },
    "papermill": {
     "duration": 0.140757,
     "end_time": "2023-12-22T11:06:28.002172",
     "exception": false,
     "start_time": "2023-12-22T11:06:27.861415",
     "status": "completed"
    },
    "tags": []
   },
   "outputs": [
    {
     "name": "stderr",
     "output_type": "stream",
     "text": [
      "/var/folders/_z/dxjw6bsj42vd1dd7jll9syv40000gn/T/ipykernel_16553/1925662381.py:1: FutureWarning: \n",
      "\n",
      "The `ci` parameter is deprecated. Use `errorbar=None` for the same effect.\n",
      "\n",
      "  sns.barplot(x='VIP', y='Transported', data=train, ci=None)\n"
     ]
    },
    {
     "data": {
      "text/plain": [
       "<Axes: xlabel='VIP', ylabel='Transported'>"
      ]
     },
     "execution_count": 13,
     "metadata": {},
     "output_type": "execute_result"
    },
    {
     "data": {
      "image/png": "[encoded data removed]",
      "text/plain": [
       "<Figure size 640x480 with 1 Axes>"
      ]
     },
     "metadata": {},
     "output_type": "display_data"
    }
   ],
   "source": [
    "sns.barplot(x='VIP', y='Transported', data=train, ci=None)"
   ]
  },
  {
   "cell_type": "code",
   "execution_count": 14,
   "id": "73670888",
   "metadata": {
    "execution": {
     "iopub.execute_input": "2023-12-22T11:06:28.014004Z",
     "iopub.status.busy": "2023-12-22T11:06:28.013722Z",
     "iopub.status.idle": "2023-12-22T11:06:28.022640Z",
     "shell.execute_reply": "2023-12-22T11:06:28.022030Z"
    },
    "papermill": {
     "duration": 0.016401,
     "end_time": "2023-12-22T11:06:28.024461",
     "exception": false,
     "start_time": "2023-12-22T11:06:28.008060",
     "status": "completed"
    },
    "tags": []
   },
   "outputs": [
    {
     "data": {
      "text/html": [
       "<div>\n",
       "<style scoped>\n",
       "    .dataframe tbody tr th:only-of-type {\n",
       "        vertical-align: middle;\n",
       "    }\n",
       "\n",
       "    .dataframe tbody tr th {\n",
       "        vertical-align: top;\n",
       "    }\n",
       "\n",
       "    .dataframe thead th {\n",
       "        text-align: right;\n",
       "    }\n",
       "</style>\n",
       "<table border=\"1\" class=\"dataframe\">\n",
       "  <thead>\n",
       "    <tr style=\"text-align: right;\">\n",
       "      <th></th>\n",
       "      <th>CryoSleep</th>\n",
       "      <th>Transported</th>\n",
       "    </tr>\n",
       "  </thead>\n",
       "  <tbody>\n",
       "    <tr>\n",
       "      <th>0</th>\n",
       "      <td>0.0</td>\n",
       "      <td>0.328921</td>\n",
       "    </tr>\n",
       "    <tr>\n",
       "      <th>1</th>\n",
       "      <td>1.0</td>\n",
       "      <td>0.817583</td>\n",
       "    </tr>\n",
       "  </tbody>\n",
       "</table>\n",
       "</div>"
      ],
      "text/plain": [
       "   CryoSleep  Transported\n",
       "0        0.0     0.328921\n",
       "1        1.0     0.817583"
      ]
     },
     "execution_count": 14,
     "metadata": {},
     "output_type": "execute_result"
    }
   ],
   "source": [
    "train[['CryoSleep', 'Transported']].groupby('CryoSleep', as_index = False).mean()"
   ]
  },
  {
   "cell_type": "code",
   "execution_count": 15,
   "id": "a49342f8",
   "metadata": {
    "execution": {
     "iopub.execute_input": "2023-12-22T11:06:28.034966Z",
     "iopub.status.busy": "2023-12-22T11:06:28.034703Z",
     "iopub.status.idle": "2023-12-22T11:06:28.171449Z",
     "shell.execute_reply": "2023-12-22T11:06:28.170622Z"
    },
    "papermill": {
     "duration": 0.143978,
     "end_time": "2023-12-22T11:06:28.173200",
     "exception": false,
     "start_time": "2023-12-22T11:06:28.029222",
     "status": "completed"
    },
    "tags": []
   },
   "outputs": [
    {
     "name": "stderr",
     "output_type": "stream",
     "text": [
      "/var/folders/_z/dxjw6bsj42vd1dd7jll9syv40000gn/T/ipykernel_16553/1204611779.py:1: FutureWarning: \n",
      "\n",
      "The `ci` parameter is deprecated. Use `errorbar=None` for the same effect.\n",
      "\n",
      "  sns.barplot(x='CryoSleep', y='Transported', data=train, ci=None)\n"
     ]
    },
    {
     "data": {
      "text/plain": [
       "<Axes: xlabel='CryoSleep', ylabel='Transported'>"
      ]
     },
     "execution_count": 15,
     "metadata": {},
     "output_type": "execute_result"
    },
    {
     "data": {
      "image/png": "[encoded data removed]",
      "text/plain": [
       "<Figure size 640x480 with 1 Axes>"
      ]
     },
     "metadata": {},
     "output_type": "display_data"
    }
   ],
   "source": [
    "sns.barplot(x='CryoSleep', y='Transported', data=train, ci=None)"
   ]
  },
  {
   "cell_type": "code",
   "execution_count": 16,
   "id": "ca96c92d",
   "metadata": {
    "execution": {
     "iopub.execute_input": "2023-12-22T11:06:28.188239Z",
     "iopub.status.busy": "2023-12-22T11:06:28.187932Z",
     "iopub.status.idle": "2023-12-22T11:06:28.193329Z",
     "shell.execute_reply": "2023-12-22T11:06:28.192702Z"
    },
    "papermill": {
     "duration": 0.014825,
     "end_time": "2023-12-22T11:06:28.195148",
     "exception": false,
     "start_time": "2023-12-22T11:06:28.180323",
     "status": "completed"
    },
    "tags": []
   },
   "outputs": [
    {
     "data": {
      "text/plain": [
       "VIP\n",
       "0.0    8291\n",
       "1.0     199\n",
       "Name: count, dtype: int64"
      ]
     },
     "execution_count": 16,
     "metadata": {},
     "output_type": "execute_result"
    }
   ],
   "source": [
    "train.VIP.value_counts()"
   ]
  },
  {
   "cell_type": "code",
   "execution_count": 17,
   "id": "d72f967a",
   "metadata": {
    "execution": {
     "iopub.execute_input": "2023-12-22T11:06:28.206763Z",
     "iopub.status.busy": "2023-12-22T11:06:28.206473Z",
     "iopub.status.idle": "2023-12-22T11:06:28.211005Z",
     "shell.execute_reply": "2023-12-22T11:06:28.210360Z"
    },
    "papermill": {
     "duration": 0.012638,
     "end_time": "2023-12-22T11:06:28.213018",
     "exception": false,
     "start_time": "2023-12-22T11:06:28.200380",
     "status": "completed"
    },
    "tags": []
   },
   "outputs": [],
   "source": [
    "train['VIP'].fillna(0, inplace=True)"
   ]
  },
  {
   "cell_type": "code",
   "execution_count": 18,
   "id": "8da7c1bd",
   "metadata": {
    "execution": {
     "iopub.execute_input": "2023-12-22T11:06:28.224598Z",
     "iopub.status.busy": "2023-12-22T11:06:28.224134Z",
     "iopub.status.idle": "2023-12-22T11:06:28.230032Z",
     "shell.execute_reply": "2023-12-22T11:06:28.229202Z"
    },
    "papermill": {
     "duration": 0.013604,
     "end_time": "2023-12-22T11:06:28.231746",
     "exception": false,
     "start_time": "2023-12-22T11:06:28.218142",
     "status": "completed"
    },
    "tags": []
   },
   "outputs": [
    {
     "data": {
      "text/plain": [
       "['CryoSleep']"
      ]
     },
     "execution_count": 18,
     "metadata": {},
     "output_type": "execute_result"
    }
   ],
   "source": [
    "train.columns[train.isna().any()].tolist()"
   ]
  },
  {
   "cell_type": "code",
   "execution_count": 19,
   "id": "10f5a7ed",
   "metadata": {
    "execution": {
     "iopub.execute_input": "2023-12-22T11:06:28.243280Z",
     "iopub.status.busy": "2023-12-22T11:06:28.243016Z",
     "iopub.status.idle": "2023-12-22T11:06:28.248588Z",
     "shell.execute_reply": "2023-12-22T11:06:28.247978Z"
    },
    "papermill": {
     "duration": 0.013548,
     "end_time": "2023-12-22T11:06:28.250472",
     "exception": false,
     "start_time": "2023-12-22T11:06:28.236924",
     "status": "completed"
    },
    "tags": []
   },
   "outputs": [
    {
     "data": {
      "text/plain": [
       "CryoSleep\n",
       "0.0    5439\n",
       "1.0    3037\n",
       "Name: count, dtype: int64"
      ]
     },
     "execution_count": 19,
     "metadata": {},
     "output_type": "execute_result"
    }
   ],
   "source": [
    "train.CryoSleep.value_counts()"
   ]
  },
  {
   "cell_type": "code",
   "execution_count": 20,
   "id": "b2adf578",
   "metadata": {
    "execution": {
     "iopub.execute_input": "2023-12-22T11:06:28.262372Z",
     "iopub.status.busy": "2023-12-22T11:06:28.262073Z",
     "iopub.status.idle": "2023-12-22T11:06:28.279862Z",
     "shell.execute_reply": "2023-12-22T11:06:28.279284Z"
    },
    "papermill": {
     "duration": 0.026089,
     "end_time": "2023-12-22T11:06:28.281835",
     "exception": false,
     "start_time": "2023-12-22T11:06:28.255746",
     "status": "completed"
    },
    "tags": []
   },
   "outputs": [],
   "source": [
    "def fill_nan_with_lr(train, column):\n",
    "    features = train.drop([column, 'Transported'], axis=1)\n",
    "    not_nan_indices = train[~train[column].isna()].index\n",
    "\n",
    "    lr = LinearRegression()\n",
    "    lr.fit(features.loc[not_nan_indices], train.loc[not_nan_indices, column])\n",
    "\n",
    "    nan_indices = train[train[column].isna()].index\n",
    "    predictions = lr.predict(features.loc[nan_indices])\n",
    "    train.loc[nan_indices, column] = predictions\n",
    "\n",
    "    return train\n",
    "\n",
    "train = fill_nan_with_lr(train, 'CryoSleep')"
   ]
  },
  {
   "cell_type": "code",
   "execution_count": 21,
   "id": "c0839baa",
   "metadata": {
    "execution": {
     "iopub.execute_input": "2023-12-22T11:06:28.295422Z",
     "iopub.status.busy": "2023-12-22T11:06:28.295149Z",
     "iopub.status.idle": "2023-12-22T11:06:28.301701Z",
     "shell.execute_reply": "2023-12-22T11:06:28.301137Z"
    },
    "papermill": {
     "duration": 0.016095,
     "end_time": "2023-12-22T11:06:28.303359",
     "exception": false,
     "start_time": "2023-12-22T11:06:28.287264",
     "status": "completed"
    },
    "tags": []
   },
   "outputs": [
    {
     "data": {
      "text/plain": [
       "HomePlanet      0\n",
       "CryoSleep       0\n",
       "Destination     0\n",
       "Age             0\n",
       "VIP             0\n",
       "RoomService     0\n",
       "FoodCourt       0\n",
       "ShoppingMall    0\n",
       "Spa             0\n",
       "VRDeck          0\n",
       "Transported     0\n",
       "letter1_A       0\n",
       "letter1_B       0\n",
       "letter1_C       0\n",
       "letter1_D       0\n",
       "letter1_E       0\n",
       "letter1_F       0\n",
       "letter1_G       0\n",
       "letter1_T       0\n",
       "letter1_U       0\n",
       "letter2_P       0\n",
       "letter2_S       0\n",
       "letter2_n       0\n",
       "dtype: int64"
      ]
     },
     "execution_count": 21,
     "metadata": {},
     "output_type": "execute_result"
    }
   ],
   "source": [
    "train.isnull().sum()"
   ]
  },
  {
   "cell_type": "code",
   "execution_count": null,
   "id": "ead51dbd",
   "metadata": {
    "papermill": {
     "duration": 0.005446,
     "end_time": "2023-12-22T11:06:28.315026",
     "exception": false,
     "start_time": "2023-12-22T11:06:28.309580",
     "status": "completed"
    },
    "tags": []
   },
   "outputs": [],
   "source": []
  }
 ],
 "metadata": {
  "kernelspec": {
   "display_name": "Python 3 (ipykernel)",
   "language": "python",
   "name": "python3"
  },
  "language_info": {
   "codemirror_mode": {
    "name": "ipython",
    "version": 3
   },
   "file_extension": ".py",
   "mimetype": "text/x-python",
   "name": "python",
   "nbconvert_exporter": "python",
   "pygments_lexer": "ipython3",
   "version": "3.11.5"
  },
  "papermill": {
   "default_parameters": {},
   "duration": 5.759856,
   "end_time": "2023-12-22T11:06:28.862411",
   "environment_variables": {},
   "exception": null,
   "input_path": "/Users/anastasiavinogradskaa/titanicspaceship_p2.ipynb",
   "output_path": "/Users/anastasiavinogradskaa/titanicspaceship_p2.ipynb",
   "parameters": {},
   "start_time": "2023-12-22T11:06:23.102555",
   "version": "2.4.0"
  }
 },
 "nbformat": 4,
 "nbformat_minor": 5
}