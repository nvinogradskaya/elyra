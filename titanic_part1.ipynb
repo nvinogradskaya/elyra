{
 "cells": [
  {
   "cell_type": "code",
   "execution_count": 1,
   "id": "264fc4f1",
   "metadata": {
    "execution": {
     "iopub.execute_input": "2023-12-09T07:04:22.699287Z",
     "iopub.status.busy": "2023-12-09T07:04:22.698839Z",
     "iopub.status.idle": "2023-12-09T07:04:25.911987Z",
     "shell.execute_reply": "2023-12-09T07:04:25.910864Z"
    },
    "papermill": {
     "duration": 3.232597,
     "end_time": "2023-12-09T07:04:25.916034",
     "exception": false,
     "start_time": "2023-12-09T07:04:22.683437",
     "status": "completed"
    },
    "tags": []
   },
   "outputs": [],
   "source": [
    "import pandas as pd\n",
    "import numpy as np\n",
    "import matplotlib.pyplot as plt\n",
    "%matplotlib inline\n",
    "import seaborn as sns\n",
    "sns.set()"
   ]
  },
  {
   "cell_type": "code",
   "execution_count": 2,
   "id": "0b0c4f66",
   "metadata": {
    "execution": {
     "iopub.execute_input": "2023-12-09T07:04:25.942297Z",
     "iopub.status.busy": "2023-12-09T07:04:25.941511Z",
     "iopub.status.idle": "2023-12-09T07:04:25.971270Z",
     "shell.execute_reply": "2023-12-09T07:04:25.969496Z"
    },
    "papermill": {
     "duration": 0.046089,
     "end_time": "2023-12-09T07:04:25.975660",
     "exception": false,
     "start_time": "2023-12-09T07:04:25.929571",
     "status": "completed"
    },
    "tags": []
   },
   "outputs": [],
   "source": [
    "train = pd.read_csv('train.csv')\n",
    "test = pd.read_csv('test.csv')"
   ]
  },
  {
   "cell_type": "code",
   "execution_count": 3,
   "id": "4ae70cd8",
   "metadata": {
    "execution": {
     "iopub.execute_input": "2023-12-09T07:04:25.994633Z",
     "iopub.status.busy": "2023-12-09T07:04:25.994208Z",
     "iopub.status.idle": "2023-12-09T07:04:26.020069Z",
     "shell.execute_reply": "2023-12-09T07:04:26.018822Z"
    },
    "papermill": {
     "duration": 0.045125,
     "end_time": "2023-12-09T07:04:26.029776",
     "exception": false,
     "start_time": "2023-12-09T07:04:25.984651",
     "status": "completed"
    },
    "tags": []
   },
   "outputs": [
    {
     "data": {
      "text/html": [
       "<div>\n",
       "<style scoped>\n",
       "    .dataframe tbody tr th:only-of-type {\n",
       "        vertical-align: middle;\n",
       "    }\n",
       "\n",
       "    .dataframe tbody tr th {\n",
       "        vertical-align: top;\n",
       "    }\n",
       "\n",
       "    .dataframe thead th {\n",
       "        text-align: right;\n",
       "    }\n",
       "</style>\n",
       "<table border=\"1\" class=\"dataframe\">\n",
       "  <thead>\n",
       "    <tr style=\"text-align: right;\">\n",
       "      <th></th>\n",
       "      <th>PassengerId</th>\n",
       "      <th>Survived</th>\n",
       "      <th>Pclass</th>\n",
       "      <th>Name</th>\n",
       "      <th>Sex</th>\n",
       "      <th>Age</th>\n",
       "      <th>SibSp</th>\n",
       "      <th>Parch</th>\n",
       "      <th>Ticket</th>\n",
       "      <th>Fare</th>\n",
       "      <th>Cabin</th>\n",
       "      <th>Embarked</th>\n",
       "    </tr>\n",
       "  </thead>\n",
       "  <tbody>\n",
       "    <tr>\n",
       "      <th>0</th>\n",
       "      <td>1</td>\n",
       "      <td>0</td>\n",
       "      <td>3</td>\n",
       "      <td>Braund, Mr. Owen Harris</td>\n",
       "      <td>male</td>\n",
       "      <td>22.0</td>\n",
       "      <td>1</td>\n",
       "      <td>0</td>\n",
       "      <td>A/5 21171</td>\n",
       "      <td>7.2500</td>\n",
       "      <td>NaN</td>\n",
       "      <td>S</td>\n",
       "    </tr>\n",
       "    <tr>\n",
       "      <th>1</th>\n",
       "      <td>2</td>\n",
       "      <td>1</td>\n",
       "      <td>1</td>\n",
       "      <td>Cumings, Mrs. John Bradley (Florence Briggs Th...</td>\n",
       "      <td>female</td>\n",
       "      <td>38.0</td>\n",
       "      <td>1</td>\n",
       "      <td>0</td>\n",
       "      <td>PC 17599</td>\n",
       "      <td>71.2833</td>\n",
       "      <td>C85</td>\n",
       "      <td>C</td>\n",
       "    </tr>\n",
       "    <tr>\n",
       "      <th>2</th>\n",
       "      <td>3</td>\n",
       "      <td>1</td>\n",
       "      <td>3</td>\n",
       "      <td>Heikkinen, Miss. Laina</td>\n",
       "      <td>female</td>\n",
       "      <td>26.0</td>\n",
       "      <td>0</td>\n",
       "      <td>0</td>\n",
       "      <td>STON/O2. 3101282</td>\n",
       "      <td>7.9250</td>\n",
       "      <td>NaN</td>\n",
       "      <td>S</td>\n",
       "    </tr>\n",
       "    <tr>\n",
       "      <th>3</th>\n",
       "      <td>4</td>\n",
       "      <td>1</td>\n",
       "      <td>1</td>\n",
       "      <td>Futrelle, Mrs. Jacques Heath (Lily May Peel)</td>\n",
       "      <td>female</td>\n",
       "      <td>35.0</td>\n",
       "      <td>1</td>\n",
       "      <td>0</td>\n",
       "      <td>113803</td>\n",
       "      <td>53.1000</td>\n",
       "      <td>C123</td>\n",
       "      <td>S</td>\n",
       "    </tr>\n",
       "    <tr>\n",
       "      <th>4</th>\n",
       "      <td>5</td>\n",
       "      <td>0</td>\n",
       "      <td>3</td>\n",
       "      <td>Allen, Mr. William Henry</td>\n",
       "      <td>male</td>\n",
       "      <td>35.0</td>\n",
       "      <td>0</td>\n",
       "      <td>0</td>\n",
       "      <td>373450</td>\n",
       "      <td>8.0500</td>\n",
       "      <td>NaN</td>\n",
       "      <td>S</td>\n",
       "    </tr>\n",
       "    <tr>\n",
       "      <th>5</th>\n",
       "      <td>6</td>\n",
       "      <td>0</td>\n",
       "      <td>3</td>\n",
       "      <td>Moran, Mr. James</td>\n",
       "      <td>male</td>\n",
       "      <td>NaN</td>\n",
       "      <td>0</td>\n",
       "      <td>0</td>\n",
       "      <td>330877</td>\n",
       "      <td>8.4583</td>\n",
       "      <td>NaN</td>\n",
       "      <td>Q</td>\n",
       "    </tr>\n",
       "    <tr>\n",
       "      <th>6</th>\n",
       "      <td>7</td>\n",
       "      <td>0</td>\n",
       "      <td>1</td>\n",
       "      <td>McCarthy, Mr. Timothy J</td>\n",
       "      <td>male</td>\n",
       "      <td>54.0</td>\n",
       "      <td>0</td>\n",
       "      <td>0</td>\n",
       "      <td>17463</td>\n",
       "      <td>51.8625</td>\n",
       "      <td>E46</td>\n",
       "      <td>S</td>\n",
       "    </tr>\n",
       "    <tr>\n",
       "      <th>7</th>\n",
       "      <td>8</td>\n",
       "      <td>0</td>\n",
       "      <td>3</td>\n",
       "      <td>Palsson, Master. Gosta Leonard</td>\n",
       "      <td>male</td>\n",
       "      <td>2.0</td>\n",
       "      <td>3</td>\n",
       "      <td>1</td>\n",
       "      <td>349909</td>\n",
       "      <td>21.0750</td>\n",
       "      <td>NaN</td>\n",
       "      <td>S</td>\n",
       "    </tr>\n",
       "    <tr>\n",
       "      <th>8</th>\n",
       "      <td>9</td>\n",
       "      <td>1</td>\n",
       "      <td>3</td>\n",
       "      <td>Johnson, Mrs. Oscar W (Elisabeth Vilhelmina Berg)</td>\n",
       "      <td>female</td>\n",
       "      <td>27.0</td>\n",
       "      <td>0</td>\n",
       "      <td>2</td>\n",
       "      <td>347742</td>\n",
       "      <td>11.1333</td>\n",
       "      <td>NaN</td>\n",
       "      <td>S</td>\n",
       "    </tr>\n",
       "    <tr>\n",
       "      <th>9</th>\n",
       "      <td>10</td>\n",
       "      <td>1</td>\n",
       "      <td>2</td>\n",
       "      <td>Nasser, Mrs. Nicholas (Adele Achem)</td>\n",
       "      <td>female</td>\n",
       "      <td>14.0</td>\n",
       "      <td>1</td>\n",
       "      <td>0</td>\n",
       "      <td>237736</td>\n",
       "      <td>30.0708</td>\n",
       "      <td>NaN</td>\n",
       "      <td>C</td>\n",
       "    </tr>\n",
       "  </tbody>\n",
       "</table>\n",
       "</div>"
      ],
      "text/plain": [
       "   PassengerId  Survived  Pclass  \\\n",
       "0            1         0       3   \n",
       "1            2         1       1   \n",
       "2            3         1       3   \n",
       "3            4         1       1   \n",
       "4            5         0       3   \n",
       "5            6         0       3   \n",
       "6            7         0       1   \n",
       "7            8         0       3   \n",
       "8            9         1       3   \n",
       "9           10         1       2   \n",
       "\n",
       "                                                Name     Sex   Age  SibSp  \\\n",
       "0                            Braund, Mr. Owen Harris    male  22.0      1   \n",
       "1  Cumings, Mrs. John Bradley (Florence Briggs Th...  female  38.0      1   \n",
       "2                             Heikkinen, Miss. Laina  female  26.0      0   \n",
       "3       Futrelle, Mrs. Jacques Heath (Lily May Peel)  female  35.0      1   \n",
       "4                           Allen, Mr. William Henry    male  35.0      0   \n",
       "5                                   Moran, Mr. James    male   NaN      0   \n",
       "6                            McCarthy, Mr. Timothy J    male  54.0      0   \n",
       "7                     Palsson, Master. Gosta Leonard    male   2.0      3   \n",
       "8  Johnson, Mrs. Oscar W (Elisabeth Vilhelmina Berg)  female  27.0      0   \n",
       "9                Nasser, Mrs. Nicholas (Adele Achem)  female  14.0      1   \n",
       "\n",
       "   Parch            Ticket     Fare Cabin Embarked  \n",
       "0      0         A/5 21171   7.2500   NaN        S  \n",
       "1      0          PC 17599  71.2833   C85        C  \n",
       "2      0  STON/O2. 3101282   7.9250   NaN        S  \n",
       "3      0            113803  53.1000  C123        S  \n",
       "4      0            373450   8.0500   NaN        S  \n",
       "5      0            330877   8.4583   NaN        Q  \n",
       "6      0             17463  51.8625   E46        S  \n",
       "7      1            349909  21.0750   NaN        S  \n",
       "8      2            347742  11.1333   NaN        S  \n",
       "9      0            237736  30.0708   NaN        C  "
      ]
     },
     "execution_count": 3,
     "metadata": {},
     "output_type": "execute_result"
    }
   ],
   "source": [
    "train.head(10)"
   ]
  },
  {
   "cell_type": "code",
   "execution_count": 4,
   "id": "1ae3a7c6",
   "metadata": {
    "execution": {
     "iopub.execute_input": "2023-12-09T07:04:26.050091Z",
     "iopub.status.busy": "2023-12-09T07:04:26.049697Z",
     "iopub.status.idle": "2023-12-09T07:04:26.055192Z",
     "shell.execute_reply": "2023-12-09T07:04:26.054311Z"
    },
    "papermill": {
     "duration": 0.020906,
     "end_time": "2023-12-09T07:04:26.060155",
     "exception": false,
     "start_time": "2023-12-09T07:04:26.039249",
     "status": "completed"
    },
    "tags": []
   },
   "outputs": [
    {
     "data": {
      "text/plain": [
       "(891, 12)"
      ]
     },
     "execution_count": 4,
     "metadata": {},
     "output_type": "execute_result"
    }
   ],
   "source": [
    "train.shape"
   ]
  },
  {
   "cell_type": "code",
   "execution_count": 5,
   "id": "d4b58c58",
   "metadata": {
    "execution": {
     "iopub.execute_input": "2023-12-09T07:04:26.074284Z",
     "iopub.status.busy": "2023-12-09T07:04:26.073953Z",
     "iopub.status.idle": "2023-12-09T07:04:26.103359Z",
     "shell.execute_reply": "2023-12-09T07:04:26.102354Z"
    },
    "papermill": {
     "duration": 0.040792,
     "end_time": "2023-12-09T07:04:26.106966",
     "exception": false,
     "start_time": "2023-12-09T07:04:26.066174",
     "status": "completed"
    },
    "tags": []
   },
   "outputs": [
    {
     "data": {
      "text/html": [
       "<div>\n",
       "<style scoped>\n",
       "    .dataframe tbody tr th:only-of-type {\n",
       "        vertical-align: middle;\n",
       "    }\n",
       "\n",
       "    .dataframe tbody tr th {\n",
       "        vertical-align: top;\n",
       "    }\n",
       "\n",
       "    .dataframe thead th {\n",
       "        text-align: right;\n",
       "    }\n",
       "</style>\n",
       "<table border=\"1\" class=\"dataframe\">\n",
       "  <thead>\n",
       "    <tr style=\"text-align: right;\">\n",
       "      <th></th>\n",
       "      <th>PassengerId</th>\n",
       "      <th>Survived</th>\n",
       "      <th>Pclass</th>\n",
       "      <th>Age</th>\n",
       "      <th>SibSp</th>\n",
       "      <th>Parch</th>\n",
       "      <th>Fare</th>\n",
       "    </tr>\n",
       "  </thead>\n",
       "  <tbody>\n",
       "    <tr>\n",
       "      <th>count</th>\n",
       "      <td>891.000000</td>\n",
       "      <td>891.000000</td>\n",
       "      <td>891.000000</td>\n",
       "      <td>714.000000</td>\n",
       "      <td>891.000000</td>\n",
       "      <td>891.000000</td>\n",
       "      <td>891.000000</td>\n",
       "    </tr>\n",
       "    <tr>\n",
       "      <th>mean</th>\n",
       "      <td>446.000000</td>\n",
       "      <td>0.383838</td>\n",
       "      <td>2.308642</td>\n",
       "      <td>29.699118</td>\n",
       "      <td>0.523008</td>\n",
       "      <td>0.381594</td>\n",
       "      <td>32.204208</td>\n",
       "    </tr>\n",
       "    <tr>\n",
       "      <th>std</th>\n",
       "      <td>257.353842</td>\n",
       "      <td>0.486592</td>\n",
       "      <td>0.836071</td>\n",
       "      <td>14.526497</td>\n",
       "      <td>1.102743</td>\n",
       "      <td>0.806057</td>\n",
       "      <td>49.693429</td>\n",
       "    </tr>\n",
       "    <tr>\n",
       "      <th>min</th>\n",
       "      <td>1.000000</td>\n",
       "      <td>0.000000</td>\n",
       "      <td>1.000000</td>\n",
       "      <td>0.420000</td>\n",
       "      <td>0.000000</td>\n",
       "      <td>0.000000</td>\n",
       "      <td>0.000000</td>\n",
       "    </tr>\n",
       "    <tr>\n",
       "      <th>25%</th>\n",
       "      <td>223.500000</td>\n",
       "      <td>0.000000</td>\n",
       "      <td>2.000000</td>\n",
       "      <td>20.125000</td>\n",
       "      <td>0.000000</td>\n",
       "      <td>0.000000</td>\n",
       "      <td>7.910400</td>\n",
       "    </tr>\n",
       "    <tr>\n",
       "      <th>50%</th>\n",
       "      <td>446.000000</td>\n",
       "      <td>0.000000</td>\n",
       "      <td>3.000000</td>\n",
       "      <td>28.000000</td>\n",
       "      <td>0.000000</td>\n",
       "      <td>0.000000</td>\n",
       "      <td>14.454200</td>\n",
       "    </tr>\n",
       "    <tr>\n",
       "      <th>75%</th>\n",
       "      <td>668.500000</td>\n",
       "      <td>1.000000</td>\n",
       "      <td>3.000000</td>\n",
       "      <td>38.000000</td>\n",
       "      <td>1.000000</td>\n",
       "      <td>0.000000</td>\n",
       "      <td>31.000000</td>\n",
       "    </tr>\n",
       "    <tr>\n",
       "      <th>max</th>\n",
       "      <td>891.000000</td>\n",
       "      <td>1.000000</td>\n",
       "      <td>3.000000</td>\n",
       "      <td>80.000000</td>\n",
       "      <td>8.000000</td>\n",
       "      <td>6.000000</td>\n",
       "      <td>512.329200</td>\n",
       "    </tr>\n",
       "  </tbody>\n",
       "</table>\n",
       "</div>"
      ],
      "text/plain": [
       "       PassengerId    Survived      Pclass         Age       SibSp  \\\n",
       "count   891.000000  891.000000  891.000000  714.000000  891.000000   \n",
       "mean    446.000000    0.383838    2.308642   29.699118    0.523008   \n",
       "std     257.353842    0.486592    0.836071   14.526497    1.102743   \n",
       "min       1.000000    0.000000    1.000000    0.420000    0.000000   \n",
       "25%     223.500000    0.000000    2.000000   20.125000    0.000000   \n",
       "50%     446.000000    0.000000    3.000000   28.000000    0.000000   \n",
       "75%     668.500000    1.000000    3.000000   38.000000    1.000000   \n",
       "max     891.000000    1.000000    3.000000   80.000000    8.000000   \n",
       "\n",
       "            Parch        Fare  \n",
       "count  891.000000  891.000000  \n",
       "mean     0.381594   32.204208  \n",
       "std      0.806057   49.693429  \n",
       "min      0.000000    0.000000  \n",
       "25%      0.000000    7.910400  \n",
       "50%      0.000000   14.454200  \n",
       "75%      0.000000   31.000000  \n",
       "max      6.000000  512.329200  "
      ]
     },
     "execution_count": 5,
     "metadata": {},
     "output_type": "execute_result"
    }
   ],
   "source": [
    "train.describe()"
   ]
  },
  {
   "cell_type": "code",
   "execution_count": 6,
   "id": "17cf3861",
   "metadata": {
    "execution": {
     "iopub.execute_input": "2023-12-09T07:04:26.122697Z",
     "iopub.status.busy": "2023-12-09T07:04:26.122240Z",
     "iopub.status.idle": "2023-12-09T07:04:26.134128Z",
     "shell.execute_reply": "2023-12-09T07:04:26.133337Z"
    },
    "papermill": {
     "duration": 0.023321,
     "end_time": "2023-12-09T07:04:26.137741",
     "exception": false,
     "start_time": "2023-12-09T07:04:26.114420",
     "status": "completed"
    },
    "tags": []
   },
   "outputs": [
    {
     "name": "stdout",
     "output_type": "stream",
     "text": [
      "<class 'pandas.core.frame.DataFrame'>\n",
      "RangeIndex: 891 entries, 0 to 890\n",
      "Data columns (total 12 columns):\n",
      " #   Column       Non-Null Count  Dtype  \n",
      "---  ------       --------------  -----  \n",
      " 0   PassengerId  891 non-null    int64  \n",
      " 1   Survived     891 non-null    int64  \n",
      " 2   Pclass       891 non-null    int64  \n",
      " 3   Name         891 non-null    object \n",
      " 4   Sex          891 non-null    object \n",
      " 5   Age          714 non-null    float64\n",
      " 6   SibSp        891 non-null    int64  \n",
      " 7   Parch        891 non-null    int64  \n",
      " 8   Ticket       891 non-null    object \n",
      " 9   Fare         891 non-null    float64\n",
      " 10  Cabin        204 non-null    object \n",
      " 11  Embarked     889 non-null    object \n",
      "dtypes: float64(2), int64(5), object(5)\n",
      "memory usage: 83.7+ KB\n"
     ]
    }
   ],
   "source": [
    "train.info()"
   ]
  },
  {
   "cell_type": "code",
   "execution_count": 7,
   "id": "a16b1a5a",
   "metadata": {
    "execution": {
     "iopub.execute_input": "2023-12-09T07:04:26.161604Z",
     "iopub.status.busy": "2023-12-09T07:04:26.161207Z",
     "iopub.status.idle": "2023-12-09T07:04:26.168552Z",
     "shell.execute_reply": "2023-12-09T07:04:26.167653Z"
    },
    "papermill": {
     "duration": 0.024334,
     "end_time": "2023-12-09T07:04:26.171901",
     "exception": false,
     "start_time": "2023-12-09T07:04:26.147567",
     "status": "completed"
    },
    "tags": []
   },
   "outputs": [
    {
     "data": {
      "text/plain": [
       "PassengerId      0\n",
       "Survived         0\n",
       "Pclass           0\n",
       "Name             0\n",
       "Sex              0\n",
       "Age            177\n",
       "SibSp            0\n",
       "Parch            0\n",
       "Ticket           0\n",
       "Fare             0\n",
       "Cabin          687\n",
       "Embarked         2\n",
       "dtype: int64"
      ]
     },
     "execution_count": 7,
     "metadata": {},
     "output_type": "execute_result"
    }
   ],
   "source": [
    "train.isnull().sum()"
   ]
  },
  {
   "cell_type": "code",
   "execution_count": 8,
   "id": "dce617c5",
   "metadata": {
    "execution": {
     "iopub.execute_input": "2023-12-09T07:04:26.187024Z",
     "iopub.status.busy": "2023-12-09T07:04:26.186723Z",
     "iopub.status.idle": "2023-12-09T07:04:26.193882Z",
     "shell.execute_reply": "2023-12-09T07:04:26.192736Z"
    },
    "papermill": {
     "duration": 0.017876,
     "end_time": "2023-12-09T07:04:26.197499",
     "exception": false,
     "start_time": "2023-12-09T07:04:26.179623",
     "status": "completed"
    },
    "tags": []
   },
   "outputs": [
    {
     "name": "stdout",
     "output_type": "stream",
     "text": [
      "Survived: 342 (38.4%)\n",
      "Not Survived: 549 (61.6%)\n",
      "Total: 891\n"
     ]
    }
   ],
   "source": [
    "#Зависимости между Признаками (Features) и Ответом (Survival)\n",
    "survived = train[train['Survived'] == 1]\n",
    "not_survived = train[train['Survived'] == 0]\n",
    "\n",
    "print (\"Survived: %i (%.1f%%)\"%(len(survived), (len(survived))/len(train)*100.0))\n",
    "print (\"Not Survived: %i (%.1f%%)\"%(len(not_survived), (len(not_survived))/len(train)*100.0))\n",
    "print (\"Total: %i\"%len(train))"
   ]
  },
  {
   "cell_type": "code",
   "execution_count": 9,
   "id": "af8b1a76",
   "metadata": {
    "execution": {
     "iopub.execute_input": "2023-12-09T07:04:26.216503Z",
     "iopub.status.busy": "2023-12-09T07:04:26.216104Z",
     "iopub.status.idle": "2023-12-09T07:04:26.223558Z",
     "shell.execute_reply": "2023-12-09T07:04:26.222441Z"
    },
    "papermill": {
     "duration": 0.022743,
     "end_time": "2023-12-09T07:04:26.227810",
     "exception": false,
     "start_time": "2023-12-09T07:04:26.205067",
     "status": "completed"
    },
    "tags": []
   },
   "outputs": [
    {
     "data": {
      "text/plain": [
       "Pclass\n",
       "3    491\n",
       "1    216\n",
       "2    184\n",
       "Name: count, dtype: int64"
      ]
     },
     "execution_count": 9,
     "metadata": {},
     "output_type": "execute_result"
    }
   ],
   "source": [
    "train.Pclass.value_counts()"
   ]
  },
  {
   "cell_type": "code",
   "execution_count": 10,
   "id": "0aaca8ca",
   "metadata": {
    "execution": {
     "iopub.execute_input": "2023-12-09T07:04:26.245963Z",
     "iopub.status.busy": "2023-12-09T07:04:26.245632Z",
     "iopub.status.idle": "2023-12-09T07:04:26.258333Z",
     "shell.execute_reply": "2023-12-09T07:04:26.257220Z"
    },
    "papermill": {
     "duration": 0.024043,
     "end_time": "2023-12-09T07:04:26.261424",
     "exception": false,
     "start_time": "2023-12-09T07:04:26.237381",
     "status": "completed"
    },
    "tags": []
   },
   "outputs": [
    {
     "data": {
      "text/plain": [
       "Pclass  Survived\n",
       "1       1           136\n",
       "        0            80\n",
       "2       0            97\n",
       "        1            87\n",
       "3       0           372\n",
       "        1           119\n",
       "Name: count, dtype: int64"
      ]
     },
     "execution_count": 10,
     "metadata": {},
     "output_type": "execute_result"
    }
   ],
   "source": [
    "train.groupby('Pclass').Survived.value_counts()"
   ]
  },
  {
   "cell_type": "code",
   "execution_count": 11,
   "id": "c19f094c",
   "metadata": {
    "execution": {
     "iopub.execute_input": "2023-12-09T07:04:26.279893Z",
     "iopub.status.busy": "2023-12-09T07:04:26.279557Z",
     "iopub.status.idle": "2023-12-09T07:04:26.289363Z",
     "shell.execute_reply": "2023-12-09T07:04:26.288174Z"
    },
    "papermill": {
     "duration": 0.021658,
     "end_time": "2023-12-09T07:04:26.292529",
     "exception": false,
     "start_time": "2023-12-09T07:04:26.270871",
     "status": "completed"
    },
    "tags": []
   },
   "outputs": [
    {
     "data": {
      "text/html": [
       "<div>\n",
       "<style scoped>\n",
       "    .dataframe tbody tr th:only-of-type {\n",
       "        vertical-align: middle;\n",
       "    }\n",
       "\n",
       "    .dataframe tbody tr th {\n",
       "        vertical-align: top;\n",
       "    }\n",
       "\n",
       "    .dataframe thead th {\n",
       "        text-align: right;\n",
       "    }\n",
       "</style>\n",
       "<table border=\"1\" class=\"dataframe\">\n",
       "  <thead>\n",
       "    <tr style=\"text-align: right;\">\n",
       "      <th></th>\n",
       "      <th>Pclass</th>\n",
       "      <th>Survived</th>\n",
       "    </tr>\n",
       "  </thead>\n",
       "  <tbody>\n",
       "    <tr>\n",
       "      <th>0</th>\n",
       "      <td>1</td>\n",
       "      <td>0.629630</td>\n",
       "    </tr>\n",
       "    <tr>\n",
       "      <th>1</th>\n",
       "      <td>2</td>\n",
       "      <td>0.472826</td>\n",
       "    </tr>\n",
       "    <tr>\n",
       "      <th>2</th>\n",
       "      <td>3</td>\n",
       "      <td>0.242363</td>\n",
       "    </tr>\n",
       "  </tbody>\n",
       "</table>\n",
       "</div>"
      ],
      "text/plain": [
       "   Pclass  Survived\n",
       "0       1  0.629630\n",
       "1       2  0.472826\n",
       "2       3  0.242363"
      ]
     },
     "execution_count": 11,
     "metadata": {},
     "output_type": "execute_result"
    }
   ],
   "source": [
    "train[['Pclass', 'Survived']].groupby('Pclass', as_index = False).mean()"
   ]
  },
  {
   "cell_type": "code",
   "execution_count": 12,
   "id": "a660987e",
   "metadata": {
    "execution": {
     "iopub.execute_input": "2023-12-09T07:04:26.309913Z",
     "iopub.status.busy": "2023-12-09T07:04:26.309615Z",
     "iopub.status.idle": "2023-12-09T07:04:26.569580Z",
     "shell.execute_reply": "2023-12-09T07:04:26.568753Z"
    },
    "papermill": {
     "duration": 0.272439,
     "end_time": "2023-12-09T07:04:26.573067",
     "exception": false,
     "start_time": "2023-12-09T07:04:26.300628",
     "status": "completed"
    },
    "tags": []
   },
   "outputs": [
    {
     "name": "stderr",
     "output_type": "stream",
     "text": [
      "/var/folders/_z/dxjw6bsj42vd1dd7jll9syv40000gn/T/ipykernel_19080/2275057899.py:1: FutureWarning: \n",
      "\n",
      "The `ci` parameter is deprecated. Use `errorbar=None` for the same effect.\n",
      "\n",
      "  sns.barplot(x='Pclass', y='Survived', data=train, ci=None)\n"
     ]
    },
    {
     "data": {
      "text/plain": [
       "<Axes: xlabel='Pclass', ylabel='Survived'>"
      ]
     },
     "execution_count": 12,
     "metadata": {},
     "output_type": "execute_result"
    },
    {
     "data": {
      "image/png": "[encoded data removed]",
      "text/plain": [
       "<Figure size 640x480 with 1 Axes>"
      ]
     },
     "metadata": {},
     "output_type": "display_data"
    }
   ],
   "source": [
    "sns.barplot(x='Pclass', y='Survived', data=train, ci=None)"
   ]
  },
  {
   "cell_type": "code",
   "execution_count": 13,
   "id": "d94d5399",
   "metadata": {
    "execution": {
     "iopub.execute_input": "2023-12-09T07:04:26.588690Z",
     "iopub.status.busy": "2023-12-09T07:04:26.588042Z",
     "iopub.status.idle": "2023-12-09T07:04:26.594744Z",
     "shell.execute_reply": "2023-12-09T07:04:26.593819Z"
    },
    "papermill": {
     "duration": 0.016865,
     "end_time": "2023-12-09T07:04:26.596874",
     "exception": false,
     "start_time": "2023-12-09T07:04:26.580009",
     "status": "completed"
    },
    "tags": []
   },
   "outputs": [
    {
     "data": {
      "text/plain": [
       "Sex\n",
       "male      577\n",
       "female    314\n",
       "Name: count, dtype: int64"
      ]
     },
     "execution_count": 13,
     "metadata": {},
     "output_type": "execute_result"
    }
   ],
   "source": [
    "train.Sex.value_counts()"
   ]
  },
  {
   "cell_type": "code",
   "execution_count": 14,
   "id": "13387543",
   "metadata": {
    "execution": {
     "iopub.execute_input": "2023-12-09T07:04:26.612127Z",
     "iopub.status.busy": "2023-12-09T07:04:26.611851Z",
     "iopub.status.idle": "2023-12-09T07:04:26.619617Z",
     "shell.execute_reply": "2023-12-09T07:04:26.618880Z"
    },
    "papermill": {
     "duration": 0.016838,
     "end_time": "2023-12-09T07:04:26.621806",
     "exception": false,
     "start_time": "2023-12-09T07:04:26.604968",
     "status": "completed"
    },
    "tags": []
   },
   "outputs": [
    {
     "data": {
      "text/plain": [
       "Sex     Survived\n",
       "female  1           233\n",
       "        0            81\n",
       "male    0           468\n",
       "        1           109\n",
       "Name: count, dtype: int64"
      ]
     },
     "execution_count": 14,
     "metadata": {},
     "output_type": "execute_result"
    }
   ],
   "source": [
    "train.groupby('Sex').Survived.value_counts()"
   ]
  },
  {
   "cell_type": "code",
   "execution_count": 15,
   "id": "ac4c73ff",
   "metadata": {
    "execution": {
     "iopub.execute_input": "2023-12-09T07:04:26.638508Z",
     "iopub.status.busy": "2023-12-09T07:04:26.638156Z",
     "iopub.status.idle": "2023-12-09T07:04:26.650969Z",
     "shell.execute_reply": "2023-12-09T07:04:26.650372Z"
    },
    "papermill": {
     "duration": 0.023347,
     "end_time": "2023-12-09T07:04:26.653028",
     "exception": false,
     "start_time": "2023-12-09T07:04:26.629681",
     "status": "completed"
    },
    "tags": []
   },
   "outputs": [
    {
     "data": {
      "text/html": [
       "<div>\n",
       "<style scoped>\n",
       "    .dataframe tbody tr th:only-of-type {\n",
       "        vertical-align: middle;\n",
       "    }\n",
       "\n",
       "    .dataframe tbody tr th {\n",
       "        vertical-align: top;\n",
       "    }\n",
       "\n",
       "    .dataframe thead th {\n",
       "        text-align: right;\n",
       "    }\n",
       "</style>\n",
       "<table border=\"1\" class=\"dataframe\">\n",
       "  <thead>\n",
       "    <tr style=\"text-align: right;\">\n",
       "      <th></th>\n",
       "      <th>Sex</th>\n",
       "      <th>Survived</th>\n",
       "    </tr>\n",
       "  </thead>\n",
       "  <tbody>\n",
       "    <tr>\n",
       "      <th>0</th>\n",
       "      <td>female</td>\n",
       "      <td>0.742038</td>\n",
       "    </tr>\n",
       "    <tr>\n",
       "      <th>1</th>\n",
       "      <td>male</td>\n",
       "      <td>0.188908</td>\n",
       "    </tr>\n",
       "  </tbody>\n",
       "</table>\n",
       "</div>"
      ],
      "text/plain": [
       "      Sex  Survived\n",
       "0  female  0.742038\n",
       "1    male  0.188908"
      ]
     },
     "execution_count": 15,
     "metadata": {},
     "output_type": "execute_result"
    }
   ],
   "source": [
    "train[['Sex', 'Survived']].groupby(['Sex'], as_index=False).mean()"
   ]
  },
  {
   "cell_type": "code",
   "execution_count": 16,
   "id": "cd2f0c9e",
   "metadata": {
    "execution": {
     "iopub.execute_input": "2023-12-09T07:04:26.667925Z",
     "iopub.status.busy": "2023-12-09T07:04:26.667658Z",
     "iopub.status.idle": "2023-12-09T07:04:26.818146Z",
     "shell.execute_reply": "2023-12-09T07:04:26.817508Z"
    },
    "papermill": {
     "duration": 0.159857,
     "end_time": "2023-12-09T07:04:26.820194",
     "exception": false,
     "start_time": "2023-12-09T07:04:26.660337",
     "status": "completed"
    },
    "tags": []
   },
   "outputs": [
    {
     "name": "stderr",
     "output_type": "stream",
     "text": [
      "/var/folders/_z/dxjw6bsj42vd1dd7jll9syv40000gn/T/ipykernel_19080/645829002.py:1: FutureWarning: \n",
      "\n",
      "The `ci` parameter is deprecated. Use `errorbar=None` for the same effect.\n",
      "\n",
      "  sns.barplot(x='Sex', y='Survived', data=train, ci=None)\n"
     ]
    },
    {
     "data": {
      "text/plain": [
       "<Axes: xlabel='Sex', ylabel='Survived'>"
      ]
     },
     "execution_count": 16,
     "metadata": {},
     "output_type": "execute_result"
    },
    {
     "data": {
      "image/png": "[encoded data removed]",
      "text/plain": [
       "<Figure size 640x480 with 1 Axes>"
      ]
     },
     "metadata": {},
     "output_type": "display_data"
    }
   ],
   "source": [
    "sns.barplot(x='Sex', y='Survived', data=train, ci=None)"
   ]
  },
  {
   "cell_type": "code",
   "execution_count": 17,
   "id": "bf3d0bbe",
   "metadata": {
    "execution": {
     "iopub.execute_input": "2023-12-09T07:04:26.835597Z",
     "iopub.status.busy": "2023-12-09T07:04:26.835322Z",
     "iopub.status.idle": "2023-12-09T07:04:26.847627Z",
     "shell.execute_reply": "2023-12-09T07:04:26.846948Z"
    },
    "papermill": {
     "duration": 0.022342,
     "end_time": "2023-12-09T07:04:26.849976",
     "exception": false,
     "start_time": "2023-12-09T07:04:26.827634",
     "status": "completed"
    },
    "tags": []
   },
   "outputs": [
    {
     "name": "stdout",
     "output_type": "stream",
     "text": [
      "Sex     female  male\n",
      "Pclass              \n",
      "1           94   122\n",
      "2           76   108\n",
      "3          144   347\n"
     ]
    }
   ],
   "source": [
    "tab = pd.crosstab(train['Pclass'], train['Sex'])\n",
    "print (tab)"
   ]
  },
  {
   "cell_type": "code",
   "execution_count": 18,
   "id": "e7134ee3",
   "metadata": {
    "execution": {
     "iopub.execute_input": "2023-12-09T07:04:26.869908Z",
     "iopub.status.busy": "2023-12-09T07:04:26.869444Z",
     "iopub.status.idle": "2023-12-09T07:04:27.146725Z",
     "shell.execute_reply": "2023-12-09T07:04:27.145700Z"
    },
    "papermill": {
     "duration": 0.290261,
     "end_time": "2023-12-09T07:04:27.150087",
     "exception": false,
     "start_time": "2023-12-09T07:04:26.859826",
     "status": "completed"
    },
    "tags": []
   },
   "outputs": [
    {
     "name": "stdout",
     "output_type": "stream",
     "text": [
      "Sex     female  male\n",
      "Pclass              \n",
      "1           94   122\n",
      "2           76   108\n",
      "3          144   347\n"
     ]
    },
    {
     "data": {
      "text/plain": [
       "Text(0, 0.5, 'Percentage')"
      ]
     },
     "execution_count": 18,
     "metadata": {},
     "output_type": "execute_result"
    },
    {
     "data": {
      "image/png": "[encoded data removed]",
      "text/plain": [
       "<Figure size 640x480 with 1 Axes>"
      ]
     },
     "metadata": {},
     "output_type": "display_data"
    }
   ],
   "source": [
    "tab = pd.crosstab(train['Pclass'], train['Sex'])\n",
    "print (tab)\n",
    "\n",
    "tab.div(tab.sum(1).astype(float), axis=0).plot(kind=\"bar\", stacked=True)\n",
    "plt.xlabel('Pclass')\n",
    "plt.ylabel('Percentage')"
   ]
  },
  {
   "cell_type": "code",
   "execution_count": 19,
   "id": "84837c17",
   "metadata": {
    "execution": {
     "iopub.execute_input": "2023-12-09T07:04:27.172117Z",
     "iopub.status.busy": "2023-12-09T07:04:27.171802Z",
     "iopub.status.idle": "2023-12-09T07:04:27.635569Z",
     "shell.execute_reply": "2023-12-09T07:04:27.634247Z"
    },
    "papermill": {
     "duration": 0.476353,
     "end_time": "2023-12-09T07:04:27.639547",
     "exception": false,
     "start_time": "2023-12-09T07:04:27.163194",
     "status": "completed"
    },
    "tags": []
   },
   "outputs": [
    {
     "name": "stderr",
     "output_type": "stream",
     "text": [
      "/var/folders/_z/dxjw6bsj42vd1dd7jll9syv40000gn/T/ipykernel_19080/3671265596.py:1: FutureWarning: \n",
      "\n",
      "The `ci` parameter is deprecated. Use `errorbar=None` for the same effect.\n",
      "\n",
      "  sns.catplot(x='Pclass', y='Survived', hue='Sex', aspect=2, data=train, kind='point', ci=None)\n",
      "/Users/anastasiavinogradskaa/anaconda3/lib/python3.11/site-packages/seaborn/axisgrid.py:118: UserWarning: The figure layout has changed to tight\n",
      "  self._figure.tight_layout(*args, **kwargs)\n"
     ]
    },
    {
     "data": {
      "text/plain": [
       "<seaborn.axisgrid.FacetGrid at 0x125568510>"
      ]
     },
     "execution_count": 19,
     "metadata": {},
     "output_type": "execute_result"
    },
    {
     "data": {
      "image/png": "[encoded data removed]",
      "text/plain": [
       "<Figure size 1101.12x500 with 1 Axes>"
      ]
     },
     "metadata": {},
     "output_type": "display_data"
    }
   ],
   "source": [
    "sns.catplot(x='Pclass', y='Survived', hue='Sex', aspect=2, data=train, kind='point', ci=None)"
   ]
  },
  {
   "cell_type": "code",
   "execution_count": 20,
   "id": "4b03fa39",
   "metadata": {
    "execution": {
     "iopub.execute_input": "2023-12-09T07:04:27.656058Z",
     "iopub.status.busy": "2023-12-09T07:04:27.655702Z",
     "iopub.status.idle": "2023-12-09T07:04:27.667469Z",
     "shell.execute_reply": "2023-12-09T07:04:27.666674Z"
    },
    "papermill": {
     "duration": 0.022783,
     "end_time": "2023-12-09T07:04:27.670132",
     "exception": false,
     "start_time": "2023-12-09T07:04:27.647349",
     "status": "completed"
    },
    "tags": []
   },
   "outputs": [
    {
     "name": "stdout",
     "output_type": "stream",
     "text": [
      "Pclass      1    2    3\n",
      "Embarked               \n",
      "C          85   17   66\n",
      "Q           2    3   72\n",
      "S         127  164  353\n"
     ]
    }
   ],
   "source": [
    "tab = pd.crosstab(train['Embarked'], train['Pclass'])\n",
    "print (tab)"
   ]
  },
  {
   "cell_type": "code",
   "execution_count": 21,
   "id": "7e342224",
   "metadata": {
    "execution": {
     "iopub.execute_input": "2023-12-09T07:04:27.688560Z",
     "iopub.status.busy": "2023-12-09T07:04:27.688175Z",
     "iopub.status.idle": "2023-12-09T07:04:27.934836Z",
     "shell.execute_reply": "2023-12-09T07:04:27.933744Z"
    },
    "papermill": {
     "duration": 0.259836,
     "end_time": "2023-12-09T07:04:27.938343",
     "exception": false,
     "start_time": "2023-12-09T07:04:27.678507",
     "status": "completed"
    },
    "tags": []
   },
   "outputs": [
    {
     "data": {
      "text/plain": [
       "Text(0, 0.5, 'Percentage')"
      ]
     },
     "execution_count": 21,
     "metadata": {},
     "output_type": "execute_result"
    },
    {
     "data": {
      "image/png": "[encoded data removed]",
      "text/plain": [
       "<Figure size 640x480 with 1 Axes>"
      ]
     },
     "metadata": {},
     "output_type": "display_data"
    }
   ],
   "source": [
    "tab.div(tab.sum(1).astype(float), axis=0).plot(kind=\"bar\", stacked=True)\n",
    "plt.xlabel('Embarked')\n",
    "plt.ylabel('Percentage')"
   ]
  },
  {
   "cell_type": "code",
   "execution_count": 22,
   "id": "65449508",
   "metadata": {
    "execution": {
     "iopub.execute_input": "2023-12-09T07:04:27.963678Z",
     "iopub.status.busy": "2023-12-09T07:04:27.963336Z",
     "iopub.status.idle": "2023-12-09T07:04:27.969747Z",
     "shell.execute_reply": "2023-12-09T07:04:27.968712Z"
    },
    "papermill": {
     "duration": 0.021833,
     "end_time": "2023-12-09T07:04:27.972700",
     "exception": false,
     "start_time": "2023-12-09T07:04:27.950867",
     "status": "completed"
    },
    "tags": []
   },
   "outputs": [
    {
     "data": {
      "text/plain": [
       "Embarked\n",
       "S    644\n",
       "C    168\n",
       "Q     77\n",
       "Name: count, dtype: int64"
      ]
     },
     "execution_count": 22,
     "metadata": {},
     "output_type": "execute_result"
    }
   ],
   "source": [
    "train.Embarked.value_counts()"
   ]
  },
  {
   "cell_type": "code",
   "execution_count": 23,
   "id": "33042b68",
   "metadata": {
    "execution": {
     "iopub.execute_input": "2023-12-09T07:04:27.995266Z",
     "iopub.status.busy": "2023-12-09T07:04:27.994424Z",
     "iopub.status.idle": "2023-12-09T07:04:28.188202Z",
     "shell.execute_reply": "2023-12-09T07:04:28.187039Z"
    },
    "papermill": {
     "duration": 0.205946,
     "end_time": "2023-12-09T07:04:28.190723",
     "exception": false,
     "start_time": "2023-12-09T07:04:27.984777",
     "status": "completed"
    },
    "tags": []
   },
   "outputs": [
    {
     "name": "stderr",
     "output_type": "stream",
     "text": [
      "/var/folders/_z/dxjw6bsj42vd1dd7jll9syv40000gn/T/ipykernel_19080/2998271936.py:1: FutureWarning: \n",
      "\n",
      "The `ci` parameter is deprecated. Use `errorbar=None` for the same effect.\n",
      "\n",
      "  sns.barplot(x='Embarked', y='Survived', data=train, ci=None)\n"
     ]
    },
    {
     "data": {
      "text/plain": [
       "<Axes: xlabel='Embarked', ylabel='Survived'>"
      ]
     },
     "execution_count": 23,
     "metadata": {},
     "output_type": "execute_result"
    },
    {
     "data": {
      "image/png": "[encoded data removed]",
      "text/plain": [
       "<Figure size 640x480 with 1 Axes>"
      ]
     },
     "metadata": {},
     "output_type": "display_data"
    }
   ],
   "source": [
    "sns.barplot(x='Embarked', y='Survived', data=train, ci=None)"
   ]
  },
  {
   "cell_type": "code",
   "execution_count": 24,
   "id": "8f42a1cc",
   "metadata": {
    "execution": {
     "iopub.execute_input": "2023-12-09T07:04:28.215753Z",
     "iopub.status.busy": "2023-12-09T07:04:28.215418Z",
     "iopub.status.idle": "2023-12-09T07:04:28.220850Z",
     "shell.execute_reply": "2023-12-09T07:04:28.220108Z"
    },
    "papermill": {
     "duration": 0.019305,
     "end_time": "2023-12-09T07:04:28.223443",
     "exception": false,
     "start_time": "2023-12-09T07:04:28.204138",
     "status": "completed"
    },
    "tags": []
   },
   "outputs": [
    {
     "data": {
      "text/plain": [
       "Parch\n",
       "0    678\n",
       "1    118\n",
       "2     80\n",
       "5      5\n",
       "3      5\n",
       "4      4\n",
       "6      1\n",
       "Name: count, dtype: int64"
      ]
     },
     "execution_count": 24,
     "metadata": {},
     "output_type": "execute_result"
    }
   ],
   "source": [
    "train.Parch.value_counts()"
   ]
  },
  {
   "cell_type": "code",
   "execution_count": 25,
   "id": "f55d02b2",
   "metadata": {
    "execution": {
     "iopub.execute_input": "2023-12-09T07:04:28.254369Z",
     "iopub.status.busy": "2023-12-09T07:04:28.254083Z",
     "iopub.status.idle": "2023-12-09T07:04:28.264412Z",
     "shell.execute_reply": "2023-12-09T07:04:28.263333Z"
    },
    "papermill": {
     "duration": 0.02453,
     "end_time": "2023-12-09T07:04:28.267050",
     "exception": false,
     "start_time": "2023-12-09T07:04:28.242520",
     "status": "completed"
    },
    "tags": []
   },
   "outputs": [
    {
     "data": {
      "text/plain": [
       "Parch  Survived\n",
       "0      0           445\n",
       "       1           233\n",
       "1      1            65\n",
       "       0            53\n",
       "2      0            40\n",
       "       1            40\n",
       "3      1             3\n",
       "       0             2\n",
       "4      0             4\n",
       "5      0             4\n",
       "       1             1\n",
       "6      0             1\n",
       "Name: count, dtype: int64"
      ]
     },
     "execution_count": 25,
     "metadata": {},
     "output_type": "execute_result"
    }
   ],
   "source": [
    "train.groupby('Parch').Survived.value_counts()"
   ]
  },
  {
   "cell_type": "code",
   "execution_count": 26,
   "id": "1977e66b",
   "metadata": {
    "execution": {
     "iopub.execute_input": "2023-12-09T07:04:28.293073Z",
     "iopub.status.busy": "2023-12-09T07:04:28.292784Z",
     "iopub.status.idle": "2023-12-09T07:04:28.304418Z",
     "shell.execute_reply": "2023-12-09T07:04:28.303329Z"
    },
    "papermill": {
     "duration": 0.028478,
     "end_time": "2023-12-09T07:04:28.307634",
     "exception": false,
     "start_time": "2023-12-09T07:04:28.279156",
     "status": "completed"
    },
    "tags": []
   },
   "outputs": [
    {
     "data": {
      "text/html": [
       "<div>\n",
       "<style scoped>\n",
       "    .dataframe tbody tr th:only-of-type {\n",
       "        vertical-align: middle;\n",
       "    }\n",
       "\n",
       "    .dataframe tbody tr th {\n",
       "        vertical-align: top;\n",
       "    }\n",
       "\n",
       "    .dataframe thead th {\n",
       "        text-align: right;\n",
       "    }\n",
       "</style>\n",
       "<table border=\"1\" class=\"dataframe\">\n",
       "  <thead>\n",
       "    <tr style=\"text-align: right;\">\n",
       "      <th></th>\n",
       "      <th>Parch</th>\n",
       "      <th>Survived</th>\n",
       "    </tr>\n",
       "  </thead>\n",
       "  <tbody>\n",
       "    <tr>\n",
       "      <th>0</th>\n",
       "      <td>0</td>\n",
       "      <td>0.343658</td>\n",
       "    </tr>\n",
       "    <tr>\n",
       "      <th>1</th>\n",
       "      <td>1</td>\n",
       "      <td>0.550847</td>\n",
       "    </tr>\n",
       "    <tr>\n",
       "      <th>2</th>\n",
       "      <td>2</td>\n",
       "      <td>0.500000</td>\n",
       "    </tr>\n",
       "    <tr>\n",
       "      <th>3</th>\n",
       "      <td>3</td>\n",
       "      <td>0.600000</td>\n",
       "    </tr>\n",
       "    <tr>\n",
       "      <th>4</th>\n",
       "      <td>4</td>\n",
       "      <td>0.000000</td>\n",
       "    </tr>\n",
       "    <tr>\n",
       "      <th>5</th>\n",
       "      <td>5</td>\n",
       "      <td>0.200000</td>\n",
       "    </tr>\n",
       "    <tr>\n",
       "      <th>6</th>\n",
       "      <td>6</td>\n",
       "      <td>0.000000</td>\n",
       "    </tr>\n",
       "  </tbody>\n",
       "</table>\n",
       "</div>"
      ],
      "text/plain": [
       "   Parch  Survived\n",
       "0      0  0.343658\n",
       "1      1  0.550847\n",
       "2      2  0.500000\n",
       "3      3  0.600000\n",
       "4      4  0.000000\n",
       "5      5  0.200000\n",
       "6      6  0.000000"
      ]
     },
     "execution_count": 26,
     "metadata": {},
     "output_type": "execute_result"
    }
   ],
   "source": [
    "train[['Parch', 'Survived']].groupby(['Parch'], as_index=False).mean()"
   ]
  },
  {
   "cell_type": "code",
   "execution_count": 27,
   "id": "92c64680",
   "metadata": {
    "execution": {
     "iopub.execute_input": "2023-12-09T07:04:28.338128Z",
     "iopub.status.busy": "2023-12-09T07:04:28.337491Z",
     "iopub.status.idle": "2023-12-09T07:04:28.596280Z",
     "shell.execute_reply": "2023-12-09T07:04:28.595473Z"
    },
    "papermill": {
     "duration": 0.278022,
     "end_time": "2023-12-09T07:04:28.600045",
     "exception": false,
     "start_time": "2023-12-09T07:04:28.322023",
     "status": "completed"
    },
    "tags": []
   },
   "outputs": [
    {
     "name": "stderr",
     "output_type": "stream",
     "text": [
      "/var/folders/_z/dxjw6bsj42vd1dd7jll9syv40000gn/T/ipykernel_19080/18436855.py:1: FutureWarning: \n",
      "\n",
      "The `ci` parameter is deprecated. Use `errorbar=None` for the same effect.\n",
      "\n",
      "  sns.barplot(x='Parch', y='Survived', ci=None, data=train)\n"
     ]
    },
    {
     "data": {
      "text/plain": [
       "<Axes: xlabel='Parch', ylabel='Survived'>"
      ]
     },
     "execution_count": 27,
     "metadata": {},
     "output_type": "execute_result"
    },
    {
     "data": {
      "image/png": "[encoded data removed]",
      "text/plain": [
       "<Figure size 640x480 with 1 Axes>"
      ]
     },
     "metadata": {},
     "output_type": "display_data"
    }
   ],
   "source": [
    "sns.barplot(x='Parch', y='Survived', ci=None, data=train)"
   ]
  },
  {
   "cell_type": "code",
   "execution_count": 28,
   "id": "63d59221",
   "metadata": {
    "execution": {
     "iopub.execute_input": "2023-12-09T07:04:28.632244Z",
     "iopub.status.busy": "2023-12-09T07:04:28.631911Z",
     "iopub.status.idle": "2023-12-09T07:04:28.638684Z",
     "shell.execute_reply": "2023-12-09T07:04:28.637749Z"
    },
    "papermill": {
     "duration": 0.024656,
     "end_time": "2023-12-09T07:04:28.641269",
     "exception": false,
     "start_time": "2023-12-09T07:04:28.616613",
     "status": "completed"
    },
    "tags": []
   },
   "outputs": [
    {
     "data": {
      "text/plain": [
       "SibSp\n",
       "0    608\n",
       "1    209\n",
       "2     28\n",
       "4     18\n",
       "3     16\n",
       "8      7\n",
       "5      5\n",
       "Name: count, dtype: int64"
      ]
     },
     "execution_count": 28,
     "metadata": {},
     "output_type": "execute_result"
    }
   ],
   "source": [
    "train.SibSp.value_counts()"
   ]
  },
  {
   "cell_type": "code",
   "execution_count": 29,
   "id": "e33d0ba2",
   "metadata": {
    "execution": {
     "iopub.execute_input": "2023-12-09T07:04:28.667260Z",
     "iopub.status.busy": "2023-12-09T07:04:28.666995Z",
     "iopub.status.idle": "2023-12-09T07:04:28.674794Z",
     "shell.execute_reply": "2023-12-09T07:04:28.674001Z"
    },
    "papermill": {
     "duration": 0.022436,
     "end_time": "2023-12-09T07:04:28.677308",
     "exception": false,
     "start_time": "2023-12-09T07:04:28.654872",
     "status": "completed"
    },
    "tags": []
   },
   "outputs": [
    {
     "data": {
      "text/plain": [
       "SibSp  Survived\n",
       "0      0           398\n",
       "       1           210\n",
       "1      1           112\n",
       "       0            97\n",
       "2      0            15\n",
       "       1            13\n",
       "3      0            12\n",
       "       1             4\n",
       "4      0            15\n",
       "       1             3\n",
       "5      0             5\n",
       "8      0             7\n",
       "Name: count, dtype: int64"
      ]
     },
     "execution_count": 29,
     "metadata": {},
     "output_type": "execute_result"
    }
   ],
   "source": [
    "train.groupby('SibSp').Survived.value_counts()"
   ]
  },
  {
   "cell_type": "code",
   "execution_count": 30,
   "id": "7bf7cb70",
   "metadata": {
    "execution": {
     "iopub.execute_input": "2023-12-09T07:04:28.697280Z",
     "iopub.status.busy": "2023-12-09T07:04:28.696957Z",
     "iopub.status.idle": "2023-12-09T07:04:28.706817Z",
     "shell.execute_reply": "2023-12-09T07:04:28.706220Z"
    },
    "papermill": {
     "duration": 0.022213,
     "end_time": "2023-12-09T07:04:28.709207",
     "exception": false,
     "start_time": "2023-12-09T07:04:28.686994",
     "status": "completed"
    },
    "tags": []
   },
   "outputs": [
    {
     "data": {
      "text/html": [
       "<div>\n",
       "<style scoped>\n",
       "    .dataframe tbody tr th:only-of-type {\n",
       "        vertical-align: middle;\n",
       "    }\n",
       "\n",
       "    .dataframe tbody tr th {\n",
       "        vertical-align: top;\n",
       "    }\n",
       "\n",
       "    .dataframe thead th {\n",
       "        text-align: right;\n",
       "    }\n",
       "</style>\n",
       "<table border=\"1\" class=\"dataframe\">\n",
       "  <thead>\n",
       "    <tr style=\"text-align: right;\">\n",
       "      <th></th>\n",
       "      <th>SibSp</th>\n",
       "      <th>Survived</th>\n",
       "    </tr>\n",
       "  </thead>\n",
       "  <tbody>\n",
       "    <tr>\n",
       "      <th>0</th>\n",
       "      <td>0</td>\n",
       "      <td>0.345395</td>\n",
       "    </tr>\n",
       "    <tr>\n",
       "      <th>1</th>\n",
       "      <td>1</td>\n",
       "      <td>0.535885</td>\n",
       "    </tr>\n",
       "    <tr>\n",
       "      <th>2</th>\n",
       "      <td>2</td>\n",
       "      <td>0.464286</td>\n",
       "    </tr>\n",
       "    <tr>\n",
       "      <th>3</th>\n",
       "      <td>3</td>\n",
       "      <td>0.250000</td>\n",
       "    </tr>\n",
       "    <tr>\n",
       "      <th>4</th>\n",
       "      <td>4</td>\n",
       "      <td>0.166667</td>\n",
       "    </tr>\n",
       "    <tr>\n",
       "      <th>5</th>\n",
       "      <td>5</td>\n",
       "      <td>0.000000</td>\n",
       "    </tr>\n",
       "    <tr>\n",
       "      <th>6</th>\n",
       "      <td>8</td>\n",
       "      <td>0.000000</td>\n",
       "    </tr>\n",
       "  </tbody>\n",
       "</table>\n",
       "</div>"
      ],
      "text/plain": [
       "   SibSp  Survived\n",
       "0      0  0.345395\n",
       "1      1  0.535885\n",
       "2      2  0.464286\n",
       "3      3  0.250000\n",
       "4      4  0.166667\n",
       "5      5  0.000000\n",
       "6      8  0.000000"
      ]
     },
     "execution_count": 30,
     "metadata": {},
     "output_type": "execute_result"
    }
   ],
   "source": [
    "train[['SibSp', 'Survived']].groupby(['SibSp'], as_index=False).mean()"
   ]
  },
  {
   "cell_type": "code",
   "execution_count": 31,
   "id": "cbd82058",
   "metadata": {
    "execution": {
     "iopub.execute_input": "2023-12-09T07:04:28.728939Z",
     "iopub.status.busy": "2023-12-09T07:04:28.728602Z",
     "iopub.status.idle": "2023-12-09T07:04:28.945506Z",
     "shell.execute_reply": "2023-12-09T07:04:28.944606Z"
    },
    "papermill": {
     "duration": 0.229852,
     "end_time": "2023-12-09T07:04:28.948420",
     "exception": false,
     "start_time": "2023-12-09T07:04:28.718568",
     "status": "completed"
    },
    "tags": []
   },
   "outputs": [
    {
     "name": "stderr",
     "output_type": "stream",
     "text": [
      "/var/folders/_z/dxjw6bsj42vd1dd7jll9syv40000gn/T/ipykernel_19080/3139506266.py:1: FutureWarning: \n",
      "\n",
      "The `ci` parameter is deprecated. Use `errorbar=None` for the same effect.\n",
      "\n",
      "  sns.barplot(x='SibSp', y='Survived', ci=None, data=train)\n"
     ]
    },
    {
     "data": {
      "text/plain": [
       "<Axes: xlabel='SibSp', ylabel='Survived'>"
      ]
     },
     "execution_count": 31,
     "metadata": {},
     "output_type": "execute_result"
    },
    {
     "data": {
      "image/png": "[encoded data removed]",
      "text/plain": [
       "<Figure size 640x480 with 1 Axes>"
      ]
     },
     "metadata": {},
     "output_type": "display_data"
    }
   ],
   "source": [
    "sns.barplot(x='SibSp', y='Survived', ci=None, data=train)"
   ]
  },
  {
   "cell_type": "code",
   "execution_count": 32,
   "id": "447ccc26",
   "metadata": {
    "execution": {
     "iopub.execute_input": "2023-12-09T07:04:28.977620Z",
     "iopub.status.busy": "2023-12-09T07:04:28.977331Z",
     "iopub.status.idle": "2023-12-09T07:04:29.671009Z",
     "shell.execute_reply": "2023-12-09T07:04:29.670408Z"
    },
    "papermill": {
     "duration": 0.710317,
     "end_time": "2023-12-09T07:04:29.672982",
     "exception": false,
     "start_time": "2023-12-09T07:04:28.962665",
     "status": "completed"
    },
    "tags": []
   },
   "outputs": [
    {
     "data": {
      "text/plain": [
       "<Axes: xlabel='Sex', ylabel='Age'>"
      ]
     },
     "execution_count": 32,
     "metadata": {},
     "output_type": "execute_result"
    },
    {
     "data": {
      "image/png": "[encoded data removed]",
      "text/plain": [
       "<Figure size 1200x400 with 3 Axes>"
      ]
     },
     "metadata": {},
     "output_type": "display_data"
    }
   ],
   "source": [
    "fig = plt.figure(figsize=(12,4))\n",
    "ax1 = fig.add_subplot(131)\n",
    "ax2 = fig.add_subplot(132)\n",
    "ax3 = fig.add_subplot(133)\n",
    "\n",
    "\n",
    "sns.violinplot(x=\"Embarked\", y=\"Age\", hue=\"Survived\", data=train, split=True, ax=ax1)\n",
    "sns.violinplot(x=\"Pclass\", y=\"Age\", hue=\"Survived\", data=train, split=True, ax=ax2)\n",
    "sns.violinplot(x=\"Sex\", y=\"Age\", hue=\"Survived\", data=train, split=True, ax=ax3)"
   ]
  },
  {
   "cell_type": "code",
   "execution_count": 33,
   "id": "04900678",
   "metadata": {
    "execution": {
     "iopub.execute_input": "2023-12-09T07:04:29.703571Z",
     "iopub.status.busy": "2023-12-09T07:04:29.703243Z",
     "iopub.status.idle": "2023-12-09T07:04:31.165694Z",
     "shell.execute_reply": "2023-12-09T07:04:31.164814Z"
    },
    "papermill": {
     "duration": 1.480679,
     "end_time": "2023-12-09T07:04:31.167925",
     "exception": false,
     "start_time": "2023-12-09T07:04:29.687246",
     "status": "completed"
    },
    "tags": []
   },
   "outputs": [
    {
     "name": "stderr",
     "output_type": "stream",
     "text": [
      "/var/folders/_z/dxjw6bsj42vd1dd7jll9syv40000gn/T/ipykernel_19080/3142536165.py:11: UserWarning: \n",
      "\n",
      "`distplot` is a deprecated function and will be removed in seaborn v0.14.0.\n",
      "\n",
      "Please adapt your code to use either `displot` (a figure-level function with\n",
      "similar flexibility) or `histplot` (an axes-level function for histograms).\n",
      "\n",
      "For a guide to updating your code to use the new functions, please see\n",
      "https://gist.github.com/mwaskom/de44147ed2974457ad6372750bbe5751\n",
      "\n",
      "  sns.distplot(total_survived['Age'].dropna().values, bins=range(0, 81, 1), kde=False, color='blue', ax = ax1)\n",
      "/var/folders/_z/dxjw6bsj42vd1dd7jll9syv40000gn/T/ipykernel_19080/3142536165.py:12: UserWarning: \n",
      "\n",
      "`distplot` is a deprecated function and will be removed in seaborn v0.14.0.\n",
      "\n",
      "Please adapt your code to use either `displot` (a figure-level function with\n",
      "similar flexibility) or `histplot` (an axes-level function for histograms).\n",
      "\n",
      "For a guide to updating your code to use the new functions, please see\n",
      "https://gist.github.com/mwaskom/de44147ed2974457ad6372750bbe5751\n",
      "\n",
      "  sns.distplot(total_not_survived['Age'].dropna().values, bins=range(0, 81, 1), kde=False, color='red', axlabel='Age', ax = ax1)\n",
      "/var/folders/_z/dxjw6bsj42vd1dd7jll9syv40000gn/T/ipykernel_19080/3142536165.py:15: UserWarning: \n",
      "\n",
      "`distplot` is a deprecated function and will be removed in seaborn v0.14.0.\n",
      "\n",
      "Please adapt your code to use either `displot` (a figure-level function with\n",
      "similar flexibility) or `histplot` (an axes-level function for histograms).\n",
      "\n",
      "For a guide to updating your code to use the new functions, please see\n",
      "https://gist.github.com/mwaskom/de44147ed2974457ad6372750bbe5751\n",
      "\n",
      "  sns.distplot(female_survived['Age'].dropna().values, bins=range(0, 81, 1), kde=False, color='blue', ax = ax2)\n",
      "/var/folders/_z/dxjw6bsj42vd1dd7jll9syv40000gn/T/ipykernel_19080/3142536165.py:16: UserWarning: \n",
      "\n",
      "`distplot` is a deprecated function and will be removed in seaborn v0.14.0.\n",
      "\n",
      "Please adapt your code to use either `displot` (a figure-level function with\n",
      "similar flexibility) or `histplot` (an axes-level function for histograms).\n",
      "\n",
      "For a guide to updating your code to use the new functions, please see\n",
      "https://gist.github.com/mwaskom/de44147ed2974457ad6372750bbe5751\n",
      "\n",
      "  sns.distplot(female_not_survived['Age'].dropna().values, bins=range(0, 81, 1), kde=False, color='red', axlabel='Female Age', ax = ax2)\n"
     ]
    },
    {
     "name": "stderr",
     "output_type": "stream",
     "text": [
      "/var/folders/_z/dxjw6bsj42vd1dd7jll9syv40000gn/T/ipykernel_19080/3142536165.py:19: UserWarning: \n",
      "\n",
      "`distplot` is a deprecated function and will be removed in seaborn v0.14.0.\n",
      "\n",
      "Please adapt your code to use either `displot` (a figure-level function with\n",
      "similar flexibility) or `histplot` (an axes-level function for histograms).\n",
      "\n",
      "For a guide to updating your code to use the new functions, please see\n",
      "https://gist.github.com/mwaskom/de44147ed2974457ad6372750bbe5751\n",
      "\n",
      "  sns.distplot(male_survived['Age'].dropna().values, bins=range(0, 81, 1), kde=False, color='blue', ax=ax3)\n",
      "/var/folders/_z/dxjw6bsj42vd1dd7jll9syv40000gn/T/ipykernel_19080/3142536165.py:20: UserWarning: \n",
      "\n",
      "`distplot` is a deprecated function and will be removed in seaborn v0.14.0.\n",
      "\n",
      "Please adapt your code to use either `displot` (a figure-level function with\n",
      "similar flexibility) or `histplot` (an axes-level function for histograms).\n",
      "\n",
      "For a guide to updating your code to use the new functions, please see\n",
      "https://gist.github.com/mwaskom/de44147ed2974457ad6372750bbe5751\n",
      "\n",
      "  sns.distplot(male_not_survived['Age'].dropna().values, bins=range(0, 81, 1), kde=False, color='red', axlabel='Male Age', ax=ax3)\n"
     ]
    },
    {
     "data": {
      "text/plain": [
       "<Axes: xlabel='Male Age'>"
      ]
     },
     "execution_count": 33,
     "metadata": {},
     "output_type": "execute_result"
    },
    {
     "data": {
      "image/png": "[encoded data removed]",
      "text/plain": [
       "<Figure size 1500x1000 with 3 Axes>"
      ]
     },
     "metadata": {},
     "output_type": "display_data"
    }
   ],
   "source": [
    "total_survived = train[train['Survived']==1]\n",
    "total_not_survived = train[train['Survived']==0]\n",
    "male_survived = train[(train['Survived']==1) & (train['Sex']==\"male\")]\n",
    "#male_survived = total_survived[total_survived['Sex']=='male']\n",
    "female_survived = train[(train['Survived']==1) & (train['Sex']==\"female\")]\n",
    "male_not_survived = train[(train['Survived']==0) & (train['Sex']==\"male\")]\n",
    "female_not_survived = train[(train['Survived']==0) & (train['Sex']==\"female\")]\n",
    "\n",
    "fig = plt.figure(figsize=[15,10])\n",
    "ax1 = fig.add_subplot(211)\n",
    "sns.distplot(total_survived['Age'].dropna().values, bins=range(0, 81, 1), kde=False, color='blue', ax = ax1)\n",
    "sns.distplot(total_not_survived['Age'].dropna().values, bins=range(0, 81, 1), kde=False, color='red', axlabel='Age', ax = ax1)\n",
    "\n",
    "ax2 = fig.add_subplot(223)\n",
    "sns.distplot(female_survived['Age'].dropna().values, bins=range(0, 81, 1), kde=False, color='blue', ax = ax2)\n",
    "sns.distplot(female_not_survived['Age'].dropna().values, bins=range(0, 81, 1), kde=False, color='red', axlabel='Female Age', ax = ax2)\n",
    "\n",
    "ax3 = fig.add_subplot(224)\n",
    "sns.distplot(male_survived['Age'].dropna().values, bins=range(0, 81, 1), kde=False, color='blue', ax=ax3)\n",
    "sns.distplot(male_not_survived['Age'].dropna().values, bins=range(0, 81, 1), kde=False, color='red', axlabel='Male Age', ax=ax3)"
   ]
  },
  {
   "cell_type": "code",
   "execution_count": null,
   "id": "21d6297c",
   "metadata": {
    "papermill": {
     "duration": 0.010235,
     "end_time": "2023-12-09T07:04:31.189789",
     "exception": false,
     "start_time": "2023-12-09T07:04:31.179554",
     "status": "completed"
    },
    "tags": []
   },
   "outputs": [],
   "source": []
  }
 ],
 "metadata": {
  "kernelspec": {
   "display_name": "Python 3 (ipykernel)",
   "language": "python",
   "name": "python3"
  },
  "language_info": {
   "codemirror_mode": {
    "name": "ipython",
    "version": 3
   },
   "file_extension": ".py",
   "mimetype": "text/x-python",
   "name": "python",
   "nbconvert_exporter": "python",
   "pygments_lexer": "ipython3",
   "version": "3.11.5"
  },
  "papermill": {
   "default_parameters": {},
   "duration": 11.636269,
   "end_time": "2023-12-09T07:04:31.736694",
   "environment_variables": {},
   "exception": null,
   "input_path": "/Users/anastasiavinogradskaa/titanic_part1.ipynb",
   "output_path": "/Users/anastasiavinogradskaa/titanic_part1.ipynb",
   "parameters": {},
   "start_time": "2023-12-09T07:04:20.100425",
   "version": "2.4.0"
  }
 },
 "nbformat": 4,
 "nbformat_minor": 5
}