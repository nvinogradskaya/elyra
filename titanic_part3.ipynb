{
 "cells": [
  {
   "cell_type": "code",
   "execution_count": 1,
   "id": "93cb6218",
   "metadata": {
    "execution": {
     "iopub.execute_input": "2023-12-09T07:04:37.958686Z",
     "iopub.status.busy": "2023-12-09T07:04:37.957802Z",
     "iopub.status.idle": "2023-12-09T07:04:39.570425Z",
     "shell.execute_reply": "2023-12-09T07:04:39.569804Z"
    },
    "papermill": {
     "duration": 1.627792,
     "end_time": "2023-12-09T07:04:39.572757",
     "exception": false,
     "start_time": "2023-12-09T07:04:37.944965",
     "status": "completed"
    },
    "tags": []
   },
   "outputs": [],
   "source": [
    "import pandas as pd\n",
    "import numpy as np\n",
    "import matplotlib.pyplot as plt\n",
    "%matplotlib inline\n",
    "import seaborn as sns\n",
    "sns.set()"
   ]
  },
  {
   "cell_type": "code",
   "execution_count": 2,
   "id": "b5ffe6c7",
   "metadata": {
    "execution": {
     "iopub.execute_input": "2023-12-09T07:04:39.580161Z",
     "iopub.status.busy": "2023-12-09T07:04:39.579795Z",
     "iopub.status.idle": "2023-12-09T07:04:39.591034Z",
     "shell.execute_reply": "2023-12-09T07:04:39.589540Z"
    },
    "papermill": {
     "duration": 0.018994,
     "end_time": "2023-12-09T07:04:39.594950",
     "exception": false,
     "start_time": "2023-12-09T07:04:39.575956",
     "status": "completed"
    },
    "tags": []
   },
   "outputs": [],
   "source": [
    "train = pd.read_csv('train2.csv')\n",
    "test = pd.read_csv('test2.csv')"
   ]
  },
  {
   "cell_type": "code",
   "execution_count": 3,
   "id": "61403404",
   "metadata": {
    "execution": {
     "iopub.execute_input": "2023-12-09T07:04:39.606594Z",
     "iopub.status.busy": "2023-12-09T07:04:39.606187Z",
     "iopub.status.idle": "2023-12-09T07:04:39.616877Z",
     "shell.execute_reply": "2023-12-09T07:04:39.615674Z"
    },
    "papermill": {
     "duration": 0.020327,
     "end_time": "2023-12-09T07:04:39.620465",
     "exception": false,
     "start_time": "2023-12-09T07:04:39.600138",
     "status": "completed"
    },
    "tags": []
   },
   "outputs": [
    {
     "data": {
      "text/plain": [
       "((891, 8), (891,), (418, 8))"
      ]
     },
     "execution_count": 3,
     "metadata": {},
     "output_type": "execute_result"
    }
   ],
   "source": [
    "X_train = train.drop('Survived', axis=1)\n",
    "y_train = train['Survived']\n",
    "\n",
    "X_test = test.drop(\"PassengerId\", axis=1).copy()\n",
    "\n",
    "X_train.shape, y_train.shape, X_test.shape"
   ]
  },
  {
   "cell_type": "code",
   "execution_count": 4,
   "id": "4a3fee8c",
   "metadata": {
    "execution": {
     "iopub.execute_input": "2023-12-09T07:04:39.631389Z",
     "iopub.status.busy": "2023-12-09T07:04:39.631066Z",
     "iopub.status.idle": "2023-12-09T07:04:40.195214Z",
     "shell.execute_reply": "2023-12-09T07:04:40.194071Z"
    },
    "papermill": {
     "duration": 0.572965,
     "end_time": "2023-12-09T07:04:40.198366",
     "exception": false,
     "start_time": "2023-12-09T07:04:39.625401",
     "status": "completed"
    },
    "tags": []
   },
   "outputs": [],
   "source": [
    "from sklearn.linear_model import LogisticRegression\n",
    "from sklearn.svm import SVC, LinearSVC\n",
    "from sklearn.neighbors import KNeighborsClassifier\n",
    "from sklearn.tree import DecisionTreeClassifier\n",
    "from sklearn.ensemble import RandomForestClassifier\n",
    "from sklearn.naive_bayes import GaussianNB\n",
    "from sklearn.linear_model import Perceptron\n",
    "from sklearn.linear_model import SGDClassifier"
   ]
  },
  {
   "cell_type": "code",
   "execution_count": 5,
   "id": "4de64200",
   "metadata": {
    "execution": {
     "iopub.execute_input": "2023-12-09T07:04:40.211786Z",
     "iopub.status.busy": "2023-12-09T07:04:40.211183Z",
     "iopub.status.idle": "2023-12-09T07:04:40.249529Z",
     "shell.execute_reply": "2023-12-09T07:04:40.248165Z"
    },
    "papermill": {
     "duration": 0.048738,
     "end_time": "2023-12-09T07:04:40.252862",
     "exception": false,
     "start_time": "2023-12-09T07:04:40.204124",
     "status": "completed"
    },
    "tags": []
   },
   "outputs": [
    {
     "name": "stdout",
     "output_type": "stream",
     "text": [
      "79.35 percent\n"
     ]
    }
   ],
   "source": [
    "clf = LogisticRegression()\n",
    "clf.fit(X_train, y_train)\n",
    "y_pred_log_reg = clf.predict(X_test)\n",
    "acc_log_reg = round( clf.score(X_train, y_train) * 100, 2)\n",
    "print (str(acc_log_reg) + ' percent')"
   ]
  },
  {
   "cell_type": "code",
   "execution_count": 6,
   "id": "06810223",
   "metadata": {
    "execution": {
     "iopub.execute_input": "2023-12-09T07:04:40.264933Z",
     "iopub.status.busy": "2023-12-09T07:04:40.264390Z",
     "iopub.status.idle": "2023-12-09T07:04:40.349478Z",
     "shell.execute_reply": "2023-12-09T07:04:40.348517Z"
    },
    "papermill": {
     "duration": 0.094199,
     "end_time": "2023-12-09T07:04:40.352050",
     "exception": false,
     "start_time": "2023-12-09T07:04:40.257851",
     "status": "completed"
    },
    "tags": []
   },
   "outputs": [
    {
     "name": "stdout",
     "output_type": "stream",
     "text": [
      "83.61\n"
     ]
    }
   ],
   "source": [
    "clf = SVC()\n",
    "clf.fit(X_train, y_train)\n",
    "y_pred_svc = clf.predict(X_test)\n",
    "acc_svc = round(clf.score(X_train, y_train) * 100, 2)\n",
    "print (acc_svc)"
   ]
  },
  {
   "cell_type": "code",
   "execution_count": 7,
   "id": "ab9ab1d4",
   "metadata": {
    "execution": {
     "iopub.execute_input": "2023-12-09T07:04:40.359739Z",
     "iopub.status.busy": "2023-12-09T07:04:40.359393Z",
     "iopub.status.idle": "2023-12-09T07:04:40.420957Z",
     "shell.execute_reply": "2023-12-09T07:04:40.420142Z"
    },
    "papermill": {
     "duration": 0.068062,
     "end_time": "2023-12-09T07:04:40.423154",
     "exception": false,
     "start_time": "2023-12-09T07:04:40.355092",
     "status": "completed"
    },
    "tags": []
   },
   "outputs": [
    {
     "name": "stdout",
     "output_type": "stream",
     "text": [
      "85.97\n"
     ]
    }
   ],
   "source": [
    "clf = KNeighborsClassifier(n_neighbors = 3)\n",
    "clf.fit(X_train, y_train)\n",
    "y_pred_knn = clf.predict(X_test)\n",
    "acc_knn = round(clf.score(X_train, y_train) * 100, 2)\n",
    "print (acc_knn)"
   ]
  },
  {
   "cell_type": "code",
   "execution_count": 8,
   "id": "81e96dee",
   "metadata": {
    "execution": {
     "iopub.execute_input": "2023-12-09T07:04:40.431053Z",
     "iopub.status.busy": "2023-12-09T07:04:40.430595Z",
     "iopub.status.idle": "2023-12-09T07:04:40.440891Z",
     "shell.execute_reply": "2023-12-09T07:04:40.440354Z"
    },
    "papermill": {
     "duration": 0.016592,
     "end_time": "2023-12-09T07:04:40.442892",
     "exception": false,
     "start_time": "2023-12-09T07:04:40.426300",
     "status": "completed"
    },
    "tags": []
   },
   "outputs": [
    {
     "name": "stdout",
     "output_type": "stream",
     "text": [
      "88.78\n"
     ]
    }
   ],
   "source": [
    "clf = DecisionTreeClassifier()\n",
    "clf.fit(X_train, y_train)\n",
    "y_pred_decision_tree = clf.predict(X_test)\n",
    "acc_decision_tree = round(clf.score(X_train, y_train) * 100, 2)\n",
    "print (acc_decision_tree)"
   ]
  },
  {
   "cell_type": "code",
   "execution_count": 9,
   "id": "53e5ac1a",
   "metadata": {
    "execution": {
     "iopub.execute_input": "2023-12-09T07:04:40.450670Z",
     "iopub.status.busy": "2023-12-09T07:04:40.450365Z",
     "iopub.status.idle": "2023-12-09T07:04:40.690606Z",
     "shell.execute_reply": "2023-12-09T07:04:40.689517Z"
    },
    "papermill": {
     "duration": 0.247626,
     "end_time": "2023-12-09T07:04:40.694034",
     "exception": false,
     "start_time": "2023-12-09T07:04:40.446408",
     "status": "completed"
    },
    "tags": []
   },
   "outputs": [
    {
     "name": "stdout",
     "output_type": "stream",
     "text": [
      "88.78\n"
     ]
    }
   ],
   "source": [
    "clf = RandomForestClassifier(n_estimators=100)\n",
    "clf.fit(X_train, y_train)\n",
    "y_pred_random_forest = clf.predict(X_test)\n",
    "acc_random_forest = round(clf.score(X_train, y_train) * 100, 2)\n",
    "print (acc_random_forest)"
   ]
  },
  {
   "cell_type": "code",
   "execution_count": 10,
   "id": "f233fff4",
   "metadata": {
    "execution": {
     "iopub.execute_input": "2023-12-09T07:04:40.703987Z",
     "iopub.status.busy": "2023-12-09T07:04:40.703588Z",
     "iopub.status.idle": "2023-12-09T07:04:40.716742Z",
     "shell.execute_reply": "2023-12-09T07:04:40.715997Z"
    },
    "papermill": {
     "duration": 0.022212,
     "end_time": "2023-12-09T07:04:40.720714",
     "exception": false,
     "start_time": "2023-12-09T07:04:40.698502",
     "status": "completed"
    },
    "tags": []
   },
   "outputs": [
    {
     "name": "stdout",
     "output_type": "stream",
     "text": [
      "72.62\n"
     ]
    }
   ],
   "source": [
    "clf = Perceptron(max_iter=5, tol=None)\n",
    "clf.fit(X_train, y_train)\n",
    "y_pred_perceptron = clf.predict(X_test)\n",
    "acc_perceptron = round(clf.score(X_train, y_train) * 100, 2)\n",
    "print (acc_perceptron)"
   ]
  },
  {
   "cell_type": "code",
   "execution_count": 11,
   "id": "323bf5d6",
   "metadata": {
    "execution": {
     "iopub.execute_input": "2023-12-09T07:04:40.728647Z",
     "iopub.status.busy": "2023-12-09T07:04:40.728359Z",
     "iopub.status.idle": "2023-12-09T07:04:41.410681Z",
     "shell.execute_reply": "2023-12-09T07:04:41.409975Z"
    },
    "papermill": {
     "duration": 0.68903,
     "end_time": "2023-12-09T07:04:41.413095",
     "exception": false,
     "start_time": "2023-12-09T07:04:40.724065",
     "status": "completed"
    },
    "tags": []
   },
   "outputs": [
    {
     "name": "stdout",
     "output_type": "stream",
     "text": [
      "Accuracy: 88 % \n",
      "\n"
     ]
    },
    {
     "data": {
      "text/plain": [
       "<Axes: >"
      ]
     },
     "execution_count": 11,
     "metadata": {},
     "output_type": "execute_result"
    },
    {
     "data": {
      "image/png": "[encoded data removed]",
      "text/plain": [
       "<Figure size 1500x500 with 4 Axes>"
      ]
     },
     "metadata": {},
     "output_type": "display_data"
    }
   ],
   "source": [
    "# Оценка моделей и результаты\n",
    "from sklearn.metrics import confusion_matrix\n",
    "import itertools\n",
    "\n",
    "clf = RandomForestClassifier(n_estimators=100)\n",
    "clf.fit(X_train, y_train)\n",
    "y_pred_random_forest_training_set = clf.predict(X_train)\n",
    "acc_random_forest = round(clf.score(X_train, y_train) * 100, 2)\n",
    "print (\"Accuracy: %i %% \\n\"%acc_random_forest)\n",
    "\n",
    "class_names = ['Survived', 'Not Survived']\n",
    "\n",
    "# Compute confusion matrix\n",
    "cnf_matrix = confusion_matrix(y_train, y_pred_random_forest_training_set)\n",
    "\n",
    "cnf_matrix_percent = cnf_matrix.astype('float') / cnf_matrix.sum(axis=1)[:, np.newaxis]\n",
    "\n",
    "\n",
    "true_class_names = ['True Survived', 'True Not Survived']\n",
    "predicted_class_names = ['Predicted Survived', 'Predicted Not Survived']\n",
    "\n",
    "df_cnf_matrix = pd.DataFrame(cnf_matrix, \n",
    "                             index = true_class_names,\n",
    "                             columns = predicted_class_names)\n",
    "\n",
    "df_cnf_matrix_percent = pd.DataFrame(cnf_matrix_percent, \n",
    "                                     index = true_class_names,\n",
    "                                     columns = predicted_class_names)\n",
    "\n",
    "plt.figure(figsize = (15,5))\n",
    "\n",
    "plt.subplot(121)\n",
    "sns.heatmap(df_cnf_matrix, annot=True, fmt='d')\n",
    "\n",
    "plt.subplot(122)\n",
    "sns.heatmap(df_cnf_matrix_percent, annot=True)"
   ]
  },
  {
   "cell_type": "code",
   "execution_count": 12,
   "id": "5b976892",
   "metadata": {
    "execution": {
     "iopub.execute_input": "2023-12-09T07:04:41.424036Z",
     "iopub.status.busy": "2023-12-09T07:04:41.423729Z",
     "iopub.status.idle": "2023-12-09T07:04:41.922773Z",
     "shell.execute_reply": "2023-12-09T07:04:41.922164Z"
    },
    "papermill": {
     "duration": 0.506744,
     "end_time": "2023-12-09T07:04:41.925172",
     "exception": false,
     "start_time": "2023-12-09T07:04:41.418428",
     "status": "completed"
    },
    "tags": []
   },
   "outputs": [
    {
     "name": "stdout",
     "output_type": "stream",
     "text": [
      "Accuracy: 72 % \n",
      "\n"
     ]
    },
    {
     "data": {
      "image/png": "[encoded data removed]",
      "text/plain": [
       "<Figure size 1500x500 with 4 Axes>"
      ]
     },
     "metadata": {},
     "output_type": "display_data"
    }
   ],
   "source": [
    "clf = Perceptron(max_iter=5, tol=None)\n",
    "clf.fit(X_train, y_train)\n",
    "y_pred_perceptron = clf.predict(X_train)\n",
    "\n",
    "acc_perceptron = round(clf.score(X_train, y_train) * 100, 2)\n",
    "print (\"Accuracy: %i %% \\n\"%acc_perceptron)\n",
    "\n",
    "#class_names = ['Survived', 'Not Survived']\n",
    "\n",
    "# Compute confusion matrix\n",
    "cnf_matrix = confusion_matrix(y_train, y_pred_perceptron)\n",
    "cnf_matrix_percent = cnf_matrix.astype('float') / cnf_matrix.sum(axis=1)[:, np.newaxis]\n",
    "\n",
    "#true_class_names = ['True Survived', 'True Not Survived']\n",
    "#predicted_class_names = ['Predicted Survived', 'Predicted Not Survived']\n",
    "\n",
    "df_cnf_matrix = pd.DataFrame(cnf_matrix, \n",
    "                             index = true_class_names,\n",
    "                             columns = predicted_class_names)\n",
    "\n",
    "df_cnf_matrix_percent = pd.DataFrame(cnf_matrix_percent, \n",
    "                                     index = true_class_names,\n",
    "                                     columns = predicted_class_names)\n",
    "\n",
    "plt.figure(figsize = (15,5))\n",
    "\n",
    "ax1 = plt.subplot(121)\n",
    "sns.heatmap(df_cnf_matrix, annot=True, fmt='d')\n",
    "ax1.title.set_text('Perceptron: values')\n",
    "\n",
    "ax2 = plt.subplot(122)\n",
    "sns.heatmap(df_cnf_matrix_percent, annot=True)\n",
    "ax2.title.set_text('Perceptron: %')"
   ]
  },
  {
   "cell_type": "code",
   "execution_count": 13,
   "id": "fb544e10",
   "metadata": {
    "execution": {
     "iopub.execute_input": "2023-12-09T07:04:41.939100Z",
     "iopub.status.busy": "2023-12-09T07:04:41.938788Z",
     "iopub.status.idle": "2023-12-09T07:04:41.948970Z",
     "shell.execute_reply": "2023-12-09T07:04:41.948186Z"
    },
    "papermill": {
     "duration": 0.019718,
     "end_time": "2023-12-09T07:04:41.951069",
     "exception": false,
     "start_time": "2023-12-09T07:04:41.931351",
     "status": "completed"
    },
    "tags": []
   },
   "outputs": [
    {
     "data": {
      "text/html": [
       "<div>\n",
       "<style scoped>\n",
       "    .dataframe tbody tr th:only-of-type {\n",
       "        vertical-align: middle;\n",
       "    }\n",
       "\n",
       "    .dataframe tbody tr th {\n",
       "        vertical-align: top;\n",
       "    }\n",
       "\n",
       "    .dataframe thead th {\n",
       "        text-align: right;\n",
       "    }\n",
       "</style>\n",
       "<table border=\"1\" class=\"dataframe\">\n",
       "  <thead>\n",
       "    <tr style=\"text-align: right;\">\n",
       "      <th></th>\n",
       "      <th>Model</th>\n",
       "      <th>Score</th>\n",
       "    </tr>\n",
       "  </thead>\n",
       "  <tbody>\n",
       "    <tr>\n",
       "      <th>3</th>\n",
       "      <td>Decision Tree</td>\n",
       "      <td>88.78</td>\n",
       "    </tr>\n",
       "    <tr>\n",
       "      <th>4</th>\n",
       "      <td>Random Forest</td>\n",
       "      <td>88.78</td>\n",
       "    </tr>\n",
       "    <tr>\n",
       "      <th>2</th>\n",
       "      <td>KNN</td>\n",
       "      <td>85.97</td>\n",
       "    </tr>\n",
       "    <tr>\n",
       "      <th>1</th>\n",
       "      <td>Support Vector Machines</td>\n",
       "      <td>83.61</td>\n",
       "    </tr>\n",
       "    <tr>\n",
       "      <th>0</th>\n",
       "      <td>Logistic Regression</td>\n",
       "      <td>79.35</td>\n",
       "    </tr>\n",
       "    <tr>\n",
       "      <th>5</th>\n",
       "      <td>Perceptron</td>\n",
       "      <td>72.62</td>\n",
       "    </tr>\n",
       "  </tbody>\n",
       "</table>\n",
       "</div>"
      ],
      "text/plain": [
       "                     Model  Score\n",
       "3            Decision Tree  88.78\n",
       "4            Random Forest  88.78\n",
       "2                      KNN  85.97\n",
       "1  Support Vector Machines  83.61\n",
       "0      Logistic Regression  79.35\n",
       "5               Perceptron  72.62"
      ]
     },
     "execution_count": 13,
     "metadata": {},
     "output_type": "execute_result"
    }
   ],
   "source": [
    "#Сравнение моделей\n",
    "models = pd.DataFrame({\n",
    "    'Model': ['Logistic Regression', 'Support Vector Machines', \n",
    "              'KNN', 'Decision Tree', 'Random Forest',  \n",
    "              'Perceptron'],\n",
    "    \n",
    "    'Score': [acc_log_reg, acc_svc,  \n",
    "              acc_knn,  acc_decision_tree, acc_random_forest,  \n",
    "              acc_perceptron]\n",
    "    })\n",
    "\n",
    "models.sort_values(by='Score', ascending=False)"
   ]
  },
  {
   "cell_type": "code",
   "execution_count": 14,
   "id": "15ca467e",
   "metadata": {
    "execution": {
     "iopub.execute_input": "2023-12-09T07:04:41.960601Z",
     "iopub.status.busy": "2023-12-09T07:04:41.960357Z",
     "iopub.status.idle": "2023-12-09T07:04:41.967696Z",
     "shell.execute_reply": "2023-12-09T07:04:41.966959Z"
    },
    "papermill": {
     "duration": 0.014327,
     "end_time": "2023-12-09T07:04:41.969609",
     "exception": false,
     "start_time": "2023-12-09T07:04:41.955282",
     "status": "completed"
    },
    "tags": []
   },
   "outputs": [
    {
     "data": {
      "text/html": [
       "<div>\n",
       "<style scoped>\n",
       "    .dataframe tbody tr th:only-of-type {\n",
       "        vertical-align: middle;\n",
       "    }\n",
       "\n",
       "    .dataframe tbody tr th {\n",
       "        vertical-align: top;\n",
       "    }\n",
       "\n",
       "    .dataframe thead th {\n",
       "        text-align: right;\n",
       "    }\n",
       "</style>\n",
       "<table border=\"1\" class=\"dataframe\">\n",
       "  <thead>\n",
       "    <tr style=\"text-align: right;\">\n",
       "      <th></th>\n",
       "      <th>PassengerId</th>\n",
       "      <th>Pclass</th>\n",
       "      <th>Sex</th>\n",
       "      <th>Age</th>\n",
       "      <th>Fare</th>\n",
       "      <th>Embarked</th>\n",
       "      <th>Title</th>\n",
       "      <th>FamilySize</th>\n",
       "      <th>IsAlone</th>\n",
       "    </tr>\n",
       "  </thead>\n",
       "  <tbody>\n",
       "    <tr>\n",
       "      <th>0</th>\n",
       "      <td>892</td>\n",
       "      <td>3</td>\n",
       "      <td>1</td>\n",
       "      <td>2</td>\n",
       "      <td>0</td>\n",
       "      <td>2</td>\n",
       "      <td>1</td>\n",
       "      <td>1</td>\n",
       "      <td>1</td>\n",
       "    </tr>\n",
       "    <tr>\n",
       "      <th>1</th>\n",
       "      <td>893</td>\n",
       "      <td>3</td>\n",
       "      <td>0</td>\n",
       "      <td>2</td>\n",
       "      <td>0</td>\n",
       "      <td>0</td>\n",
       "      <td>3</td>\n",
       "      <td>2</td>\n",
       "      <td>0</td>\n",
       "    </tr>\n",
       "    <tr>\n",
       "      <th>2</th>\n",
       "      <td>894</td>\n",
       "      <td>2</td>\n",
       "      <td>1</td>\n",
       "      <td>3</td>\n",
       "      <td>1</td>\n",
       "      <td>2</td>\n",
       "      <td>1</td>\n",
       "      <td>1</td>\n",
       "      <td>1</td>\n",
       "    </tr>\n",
       "    <tr>\n",
       "      <th>3</th>\n",
       "      <td>895</td>\n",
       "      <td>3</td>\n",
       "      <td>1</td>\n",
       "      <td>1</td>\n",
       "      <td>1</td>\n",
       "      <td>0</td>\n",
       "      <td>1</td>\n",
       "      <td>1</td>\n",
       "      <td>1</td>\n",
       "    </tr>\n",
       "    <tr>\n",
       "      <th>4</th>\n",
       "      <td>896</td>\n",
       "      <td>3</td>\n",
       "      <td>0</td>\n",
       "      <td>1</td>\n",
       "      <td>1</td>\n",
       "      <td>0</td>\n",
       "      <td>3</td>\n",
       "      <td>3</td>\n",
       "      <td>0</td>\n",
       "    </tr>\n",
       "  </tbody>\n",
       "</table>\n",
       "</div>"
      ],
      "text/plain": [
       "   PassengerId  Pclass  Sex  Age  Fare  Embarked  Title  FamilySize  IsAlone\n",
       "0          892       3    1    2     0         2      1           1        1\n",
       "1          893       3    0    2     0         0      3           2        0\n",
       "2          894       2    1    3     1         2      1           1        1\n",
       "3          895       3    1    1     1         0      1           1        1\n",
       "4          896       3    0    1     1         0      3           3        0"
      ]
     },
     "execution_count": 14,
     "metadata": {},
     "output_type": "execute_result"
    }
   ],
   "source": [
    "test.head()"
   ]
  },
  {
   "cell_type": "code",
   "execution_count": 15,
   "id": "20c38a03",
   "metadata": {
    "execution": {
     "iopub.execute_input": "2023-12-09T07:04:41.982687Z",
     "iopub.status.busy": "2023-12-09T07:04:41.982399Z",
     "iopub.status.idle": "2023-12-09T07:04:41.986039Z",
     "shell.execute_reply": "2023-12-09T07:04:41.985299Z"
    },
    "papermill": {
     "duration": 0.012639,
     "end_time": "2023-12-09T07:04:41.988313",
     "exception": false,
     "start_time": "2023-12-09T07:04:41.975674",
     "status": "completed"
    },
    "tags": []
   },
   "outputs": [],
   "source": [
    "submission = pd.DataFrame({\n",
    "        \"PassengerId\": test[\"PassengerId\"],\n",
    "        \"Survived\": y_pred_random_forest\n",
    "    })"
   ]
  },
  {
   "cell_type": "code",
   "execution_count": 16,
   "id": "48886420",
   "metadata": {
    "execution": {
     "iopub.execute_input": "2023-12-09T07:04:42.000618Z",
     "iopub.status.busy": "2023-12-09T07:04:42.000307Z",
     "iopub.status.idle": "2023-12-09T07:04:42.006707Z",
     "shell.execute_reply": "2023-12-09T07:04:42.005903Z"
    },
    "papermill": {
     "duration": 0.013492,
     "end_time": "2023-12-09T07:04:42.008665",
     "exception": false,
     "start_time": "2023-12-09T07:04:41.995173",
     "status": "completed"
    },
    "tags": []
   },
   "outputs": [],
   "source": [
    "submission.to_csv('submission2.csv', index=False)"
   ]
  }
 ],
 "metadata": {
  "kernelspec": {
   "display_name": "Python 3 (ipykernel)",
   "language": "python",
   "name": "python3"
  },
  "language_info": {
   "codemirror_mode": {
    "name": "ipython",
    "version": 3
   },
   "file_extension": ".py",
   "mimetype": "text/x-python",
   "name": "python",
   "nbconvert_exporter": "python",
   "pygments_lexer": "ipython3",
   "version": "3.11.5"
  },
  "papermill": {
   "default_parameters": {},
   "duration": 5.807417,
   "end_time": "2023-12-09T07:04:42.541865",
   "environment_variables": {},
   "exception": null,
   "input_path": "/Users/anastasiavinogradskaa/titanic_part3.ipynb",
   "output_path": "/Users/anastasiavinogradskaa/titanic_part3.ipynb",
   "parameters": {},
   "start_time": "2023-12-09T07:04:36.734448",
   "version": "2.4.0"
  }
 },
 "nbformat": 4,
 "nbformat_minor": 5
}